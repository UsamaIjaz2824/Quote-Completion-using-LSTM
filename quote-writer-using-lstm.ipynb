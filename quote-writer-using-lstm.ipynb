{
 "cells": [
  {
   "cell_type": "code",
   "execution_count": 1,
   "id": "a0d7ab9d",
   "metadata": {
    "_cell_guid": "b1076dfc-b9ad-4769-8c92-a6c4dae69d19",
    "_uuid": "8f2839f25d086af736a60e9eeb907d3b93b6e0e5",
    "execution": {
     "iopub.execute_input": "2024-04-10T08:17:24.767347Z",
     "iopub.status.busy": "2024-04-10T08:17:24.766905Z",
     "iopub.status.idle": "2024-04-10T08:17:25.735026Z",
     "shell.execute_reply": "2024-04-10T08:17:25.733516Z"
    },
    "papermill": {
     "duration": 0.983066,
     "end_time": "2024-04-10T08:17:25.737674",
     "exception": false,
     "start_time": "2024-04-10T08:17:24.754608",
     "status": "completed"
    },
    "tags": []
   },
   "outputs": [],
   "source": [
    "import numpy as np\n",
    "import pandas as pd"
   ]
  },
  {
   "cell_type": "markdown",
   "id": "261997af",
   "metadata": {
    "papermill": {
     "duration": 0.009561,
     "end_time": "2024-04-10T08:17:25.757778",
     "exception": false,
     "start_time": "2024-04-10T08:17:25.748217",
     "status": "completed"
    },
    "tags": []
   },
   "source": [
    "# Import Data"
   ]
  },
  {
   "cell_type": "code",
   "execution_count": 2,
   "id": "1a25e0b5",
   "metadata": {
    "execution": {
     "iopub.execute_input": "2024-04-10T08:17:25.780462Z",
     "iopub.status.busy": "2024-04-10T08:17:25.779250Z",
     "iopub.status.idle": "2024-04-10T08:17:25.801698Z",
     "shell.execute_reply": "2024-04-10T08:17:25.800524Z"
    },
    "papermill": {
     "duration": 0.036638,
     "end_time": "2024-04-10T08:17:25.804502",
     "exception": false,
     "start_time": "2024-04-10T08:17:25.767864",
     "status": "completed"
    },
    "tags": []
   },
   "outputs": [],
   "source": [
    "df = pd.read_csv(\"/kaggle/input/quotes-dataset/Quotes Dataset.csv\")"
   ]
  },
  {
   "cell_type": "code",
   "execution_count": 3,
   "id": "4d915f36",
   "metadata": {
    "execution": {
     "iopub.execute_input": "2024-04-10T08:17:25.828578Z",
     "iopub.status.busy": "2024-04-10T08:17:25.827746Z",
     "iopub.status.idle": "2024-04-10T08:17:25.846170Z",
     "shell.execute_reply": "2024-04-10T08:17:25.844991Z"
    },
    "papermill": {
     "duration": 0.032694,
     "end_time": "2024-04-10T08:17:25.848618",
     "exception": false,
     "start_time": "2024-04-10T08:17:25.815924",
     "status": "completed"
    },
    "tags": []
   },
   "outputs": [
    {
     "data": {
      "text/html": [
       "<div>\n",
       "<style scoped>\n",
       "    .dataframe tbody tr th:only-of-type {\n",
       "        vertical-align: middle;\n",
       "    }\n",
       "\n",
       "    .dataframe tbody tr th {\n",
       "        vertical-align: top;\n",
       "    }\n",
       "\n",
       "    .dataframe thead th {\n",
       "        text-align: right;\n",
       "    }\n",
       "</style>\n",
       "<table border=\"1\" class=\"dataframe\">\n",
       "  <thead>\n",
       "    <tr style=\"text-align: right;\">\n",
       "      <th></th>\n",
       "      <th>Number</th>\n",
       "      <th>Quote</th>\n",
       "      <th>Author</th>\n",
       "    </tr>\n",
       "  </thead>\n",
       "  <tbody>\n",
       "    <tr>\n",
       "      <th>0</th>\n",
       "      <td>1</td>\n",
       "      <td>The only thing we have to fear is fear itself.</td>\n",
       "      <td>Franklin D. Roosevelt</td>\n",
       "    </tr>\n",
       "    <tr>\n",
       "      <th>1</th>\n",
       "      <td>2</td>\n",
       "      <td>The truth will set you free.</td>\n",
       "      <td>The Bible</td>\n",
       "    </tr>\n",
       "    <tr>\n",
       "      <th>2</th>\n",
       "      <td>3</td>\n",
       "      <td>To be yourself in a world that is constantly t...</td>\n",
       "      <td>Ralph Waldo Emerson</td>\n",
       "    </tr>\n",
       "    <tr>\n",
       "      <th>3</th>\n",
       "      <td>4</td>\n",
       "      <td>Success is not final, failure is not fatal: It...</td>\n",
       "      <td>Winston S. Churchill</td>\n",
       "    </tr>\n",
       "    <tr>\n",
       "      <th>4</th>\n",
       "      <td>5</td>\n",
       "      <td>The only way to do great work is to love what ...</td>\n",
       "      <td>Steve Jobs</td>\n",
       "    </tr>\n",
       "  </tbody>\n",
       "</table>\n",
       "</div>"
      ],
      "text/plain": [
       "   Number                                              Quote  \\\n",
       "0       1     The only thing we have to fear is fear itself.   \n",
       "1       2                       The truth will set you free.   \n",
       "2       3  To be yourself in a world that is constantly t...   \n",
       "3       4  Success is not final, failure is not fatal: It...   \n",
       "4       5  The only way to do great work is to love what ...   \n",
       "\n",
       "                  Author  \n",
       "0  Franklin D. Roosevelt  \n",
       "1              The Bible  \n",
       "2    Ralph Waldo Emerson  \n",
       "3   Winston S. Churchill  \n",
       "4             Steve Jobs  "
      ]
     },
     "execution_count": 3,
     "metadata": {},
     "output_type": "execute_result"
    }
   ],
   "source": [
    "df.head()"
   ]
  },
  {
   "cell_type": "code",
   "execution_count": 4,
   "id": "942937ae",
   "metadata": {
    "execution": {
     "iopub.execute_input": "2024-04-10T08:17:25.872467Z",
     "iopub.status.busy": "2024-04-10T08:17:25.872062Z",
     "iopub.status.idle": "2024-04-10T08:17:25.883625Z",
     "shell.execute_reply": "2024-04-10T08:17:25.882339Z"
    },
    "papermill": {
     "duration": 0.02707,
     "end_time": "2024-04-10T08:17:25.885901",
     "exception": false,
     "start_time": "2024-04-10T08:17:25.858831",
     "status": "completed"
    },
    "tags": []
   },
   "outputs": [
    {
     "data": {
      "text/html": [
       "<div>\n",
       "<style scoped>\n",
       "    .dataframe tbody tr th:only-of-type {\n",
       "        vertical-align: middle;\n",
       "    }\n",
       "\n",
       "    .dataframe tbody tr th {\n",
       "        vertical-align: top;\n",
       "    }\n",
       "\n",
       "    .dataframe thead th {\n",
       "        text-align: right;\n",
       "    }\n",
       "</style>\n",
       "<table border=\"1\" class=\"dataframe\">\n",
       "  <thead>\n",
       "    <tr style=\"text-align: right;\">\n",
       "      <th></th>\n",
       "      <th>Number</th>\n",
       "      <th>Quote</th>\n",
       "      <th>Author</th>\n",
       "    </tr>\n",
       "  </thead>\n",
       "  <tbody>\n",
       "    <tr>\n",
       "      <th>720</th>\n",
       "      <td>721</td>\n",
       "      <td>Believe you can and you're halfway there.</td>\n",
       "      <td>Theodore Roosevelt</td>\n",
       "    </tr>\n",
       "    <tr>\n",
       "      <th>721</th>\n",
       "      <td>722</td>\n",
       "      <td>The mind is everything. What you think you bec...</td>\n",
       "      <td>Buddha</td>\n",
       "    </tr>\n",
       "    <tr>\n",
       "      <th>722</th>\n",
       "      <td>723</td>\n",
       "      <td>I have not failed. I've just found 10,000 ways...</td>\n",
       "      <td>Thomas Edison</td>\n",
       "    </tr>\n",
       "    <tr>\n",
       "      <th>723</th>\n",
       "      <td>724</td>\n",
       "      <td>A journey of a thousand miles begins with a si...</td>\n",
       "      <td>Lao Tzu</td>\n",
       "    </tr>\n",
       "    <tr>\n",
       "      <th>724</th>\n",
       "      <td>725</td>\n",
       "      <td>It always seems impossible until it's done.</td>\n",
       "      <td>Nelson Mandela</td>\n",
       "    </tr>\n",
       "  </tbody>\n",
       "</table>\n",
       "</div>"
      ],
      "text/plain": [
       "     Number                                              Quote  \\\n",
       "720     721          Believe you can and you're halfway there.   \n",
       "721     722  The mind is everything. What you think you bec...   \n",
       "722     723  I have not failed. I've just found 10,000 ways...   \n",
       "723     724  A journey of a thousand miles begins with a si...   \n",
       "724     725        It always seems impossible until it's done.   \n",
       "\n",
       "                 Author  \n",
       "720  Theodore Roosevelt  \n",
       "721              Buddha  \n",
       "722       Thomas Edison  \n",
       "723             Lao Tzu  \n",
       "724      Nelson Mandela  "
      ]
     },
     "execution_count": 4,
     "metadata": {},
     "output_type": "execute_result"
    }
   ],
   "source": [
    "df.tail()"
   ]
  },
  {
   "cell_type": "code",
   "execution_count": 5,
   "id": "052f39ea",
   "metadata": {
    "execution": {
     "iopub.execute_input": "2024-04-10T08:17:25.908563Z",
     "iopub.status.busy": "2024-04-10T08:17:25.908122Z",
     "iopub.status.idle": "2024-04-10T08:17:25.935117Z",
     "shell.execute_reply": "2024-04-10T08:17:25.933925Z"
    },
    "papermill": {
     "duration": 0.041188,
     "end_time": "2024-04-10T08:17:25.937513",
     "exception": false,
     "start_time": "2024-04-10T08:17:25.896325",
     "status": "completed"
    },
    "tags": []
   },
   "outputs": [
    {
     "data": {
      "text/html": [
       "<div>\n",
       "<style scoped>\n",
       "    .dataframe tbody tr th:only-of-type {\n",
       "        vertical-align: middle;\n",
       "    }\n",
       "\n",
       "    .dataframe tbody tr th {\n",
       "        vertical-align: top;\n",
       "    }\n",
       "\n",
       "    .dataframe thead th {\n",
       "        text-align: right;\n",
       "    }\n",
       "</style>\n",
       "<table border=\"1\" class=\"dataframe\">\n",
       "  <thead>\n",
       "    <tr style=\"text-align: right;\">\n",
       "      <th></th>\n",
       "      <th>count</th>\n",
       "      <th>mean</th>\n",
       "      <th>std</th>\n",
       "      <th>min</th>\n",
       "      <th>25%</th>\n",
       "      <th>50%</th>\n",
       "      <th>75%</th>\n",
       "      <th>max</th>\n",
       "    </tr>\n",
       "  </thead>\n",
       "  <tbody>\n",
       "    <tr>\n",
       "      <th>Number</th>\n",
       "      <td>725.0</td>\n",
       "      <td>363.0</td>\n",
       "      <td>209.43376</td>\n",
       "      <td>1.0</td>\n",
       "      <td>182.0</td>\n",
       "      <td>363.0</td>\n",
       "      <td>544.0</td>\n",
       "      <td>725.0</td>\n",
       "    </tr>\n",
       "  </tbody>\n",
       "</table>\n",
       "</div>"
      ],
      "text/plain": [
       "        count   mean        std  min    25%    50%    75%    max\n",
       "Number  725.0  363.0  209.43376  1.0  182.0  363.0  544.0  725.0"
      ]
     },
     "execution_count": 5,
     "metadata": {},
     "output_type": "execute_result"
    }
   ],
   "source": [
    "df.describe().T"
   ]
  },
  {
   "cell_type": "code",
   "execution_count": 6,
   "id": "1476bae4",
   "metadata": {
    "execution": {
     "iopub.execute_input": "2024-04-10T08:17:25.961292Z",
     "iopub.status.busy": "2024-04-10T08:17:25.960937Z",
     "iopub.status.idle": "2024-04-10T08:17:25.983732Z",
     "shell.execute_reply": "2024-04-10T08:17:25.982776Z"
    },
    "papermill": {
     "duration": 0.03797,
     "end_time": "2024-04-10T08:17:25.986204",
     "exception": false,
     "start_time": "2024-04-10T08:17:25.948234",
     "status": "completed"
    },
    "tags": []
   },
   "outputs": [
    {
     "name": "stdout",
     "output_type": "stream",
     "text": [
      "<class 'pandas.core.frame.DataFrame'>\n",
      "RangeIndex: 725 entries, 0 to 724\n",
      "Data columns (total 3 columns):\n",
      " #   Column  Non-Null Count  Dtype \n",
      "---  ------  --------------  ----- \n",
      " 0   Number  725 non-null    int64 \n",
      " 1   Quote   725 non-null    object\n",
      " 2   Author  725 non-null    object\n",
      "dtypes: int64(1), object(2)\n",
      "memory usage: 17.1+ KB\n"
     ]
    }
   ],
   "source": [
    "df.info()"
   ]
  },
  {
   "cell_type": "markdown",
   "id": "d165dd55",
   "metadata": {
    "papermill": {
     "duration": 0.011387,
     "end_time": "2024-04-10T08:17:26.008659",
     "exception": false,
     "start_time": "2024-04-10T08:17:25.997272",
     "status": "completed"
    },
    "tags": []
   },
   "source": [
    "# Visulize"
   ]
  },
  {
   "cell_type": "code",
   "execution_count": 7,
   "id": "c01ecba6",
   "metadata": {
    "execution": {
     "iopub.execute_input": "2024-04-10T08:17:26.032279Z",
     "iopub.status.busy": "2024-04-10T08:17:26.031923Z",
     "iopub.status.idle": "2024-04-10T08:17:28.657790Z",
     "shell.execute_reply": "2024-04-10T08:17:28.656518Z"
    },
    "papermill": {
     "duration": 2.641006,
     "end_time": "2024-04-10T08:17:28.660374",
     "exception": false,
     "start_time": "2024-04-10T08:17:26.019368",
     "status": "completed"
    },
    "tags": []
   },
   "outputs": [
    {
     "data": {
      "text/html": [
       "        <script type=\"text/javascript\">\n",
       "        window.PlotlyConfig = {MathJaxConfig: 'local'};\n",
       "        if (window.MathJax && window.MathJax.Hub && window.MathJax.Hub.Config) {window.MathJax.Hub.Config({SVG: {font: \"STIX-Web\"}});}\n",
       "        if (typeof require !== 'undefined') {\n",
       "        require.undef(\"plotly\");\n",
       "        requirejs.config({\n",
       "            paths: {\n",
       "                'plotly': ['https://cdn.plot.ly/plotly-2.27.0.min']\n",
       "            }\n",
       "        });\n",
       "        require(['plotly'], function(Plotly) {\n",
       "            window._Plotly = Plotly;\n",
       "        });\n",
       "        }\n",
       "        </script>\n",
       "        "
      ]
     },
     "metadata": {},
     "output_type": "display_data"
    },
    {
     "data": {
      "text/html": [
       "<div>                            <div id=\"4223c9b6-d754-43c6-b756-fba45a050adb\" class=\"plotly-graph-div\" style=\"height:525px; width:100%;\"></div>            <script type=\"text/javascript\">                require([\"plotly\"], function(Plotly) {                    window.PLOTLYENV=window.PLOTLYENV || {};                                    if (document.getElementById(\"4223c9b6-d754-43c6-b756-fba45a050adb\")) {                    Plotly.newPlot(                        \"4223c9b6-d754-43c6-b756-fba45a050adb\",                        [{\"customdata\":[[\"Franklin D. Roosevelt\"],[\"The Bible\"],[\"Ralph Waldo Emerson\"],[\"Winston S. Churchill\"],[\"Steve Jobs\"],[\"John Lennon\"],[\"Wayne Gretzky\"],[\"Mae West\"],[\"Theodore Roosevelt\"],[\"Norman Vincent Peale\"],[\"Robert Frost\"],[\"Robert Frost\"],[\"Dr. Seuss\"],[\"Mahatma Gandhi\"],[\"Eleanor Roosevelt\"],[\"Thomas Edison\"],[\"Dalai Lama\"],[\"Franklin D. Roosevelt\"],[\"James Baldwin\"],[\"Lao Tzu\"],[\"E.E. Cummings\"],[\"Confucius\"],[\"Buddha\"],[\"Charles R. Swindoll\"],[\"Audrey Hepburn\"],[\"Joseph Campbell\"],[\"Eleanor Roosevelt\"],[\"Steve Jobs\"],[\"Nelson Mandela\"],[\"Martin Luther King Jr.\"],[\"Walt Disney\"],[\"Booker T. Washington\"],[\"Jimmy Dean\"],[\"Helen Keller\"],[\"Frank Sinatra\"],[\"Buddha\"],[\"Mark Twain\"],[\"George Eliot\"],[\"Albert Schweitzer\"],[\"Zig Ziglar\"],[\"Albert Einstein\"],[\"Abraham Lincoln\"],[\"Helen Keller\"],[\"Sam Levenson\"],[\"Albert Einstein\"],[\"Confucius\"],[\"Pablo Picasso\"],[\"Wayne Gretzky\"],[\"Theodore Roosevelt\"],[\"Buddha\"],[\"Thomas Edison\"],[\"Lao Tzu\"],[\"Nelson Mandela\"],[\"Jimmy Dean\"],[\"Walt Disney\"],[\"Zig Ziglar\"],[\"Albert Einstein\"],[\"Abraham Lincoln\"],[\"Albert Einstein\"],[\"Confucius\"],[\"Pablo Picasso\"],[\"Wayne Gretzky\"],[\"Theodore Roosevelt\"],[\"Buddha\"],[\"Thomas Edison\"],[\"Lao Tzu\"],[\"Nelson Mandela\"],[\"Jimmy Dean\"],[\"Walt Disney\"],[\"Zig Ziglar\"],[\"Albert Einstein\"],[\"Abraham Lincoln\"],[\"Albert Einstein\"],[\"Confucius\"],[\"Pablo Picasso\"],[\"Wayne Gretzky\"],[\"Theodore Roosevelt\"],[\"Buddha\"],[\"Thomas Edison\"],[\"Lao Tzu\"],[\"Nelson Mandela\"],[\"Jimmy Dean\"],[\"Walt Disney\"],[\"Zig Ziglar\"],[\"Albert Einstein\"],[\"Abraham Lincoln\"],[\"Albert Einstein\"],[\"Confucius\"],[\"Pablo Picasso\"],[\"Wayne Gretzky\"],[\"Theodore Roosevelt\"],[\"Buddha\"],[\"Thomas Edison\"],[\"Lao Tzu\"],[\"Nelson Mandela\"],[\"Jimmy Dean\"],[\"Walt Disney\"],[\"Zig Ziglar\"],[\"Albert Einstein\"],[\"Abraham Lincoln\"],[\"Albert Einstein\"],[\"Confucius\"],[\"Pablo Picasso\"],[\"Wayne Gretzky\"],[\"Theodore Roosevelt\"],[\"Buddha\"],[\"Thomas Edison\"],[\"Lao Tzu\"],[\"Nelson Mandela\"],[\"Jimmy Dean\"],[\"Walt Disney\"],[\"Zig Ziglar\"],[\"Albert Einstein\"],[\"Abraham Lincoln\"],[\"Albert Einstein\"],[\"Confucius\"],[\"Pablo Picasso\"],[\"Wayne Gretzky\"],[\"Theodore Roosevelt\"],[\"Buddha\"],[\"Thomas Edison\"],[\"Lao Tzu\"],[\"Nelson Mandela\"],[\"Jimmy Dean\"],[\"Walt Disney\"],[\"Zig Ziglar\"],[\"Albert Einstein\"],[\"Abraham Lincoln\"],[\"Albert Einstein\"],[\"Confucius\"],[\"Pablo Picasso\"],[\"Wayne Gretzky\"],[\"Theodore Roosevelt\"],[\"Buddha\"],[\"Thomas Edison\"],[\"Lao Tzu\"],[\"Nelson Mandela\"],[\"Jimmy Dean\"],[\"Walt Disney\"],[\"Zig Ziglar\"],[\"Albert Einstein\"],[\"Abraham Lincoln\"],[\"Albert Einstein\"],[\"Confucius\"],[\"Pablo Picasso\"],[\"Wayne Gretzky\"],[\"Theodore Roosevelt\"],[\"Buddha\"],[\"Thomas Edison\"],[\"Lao Tzu\"],[\"Nelson Mandela\"],[\"Jimmy Dean\"],[\"Walt Disney\"],[\"Zig Ziglar\"],[\"Albert Einstein\"],[\"Abraham Lincoln\"],[\"Albert Einstein\"],[\"Confucius\"],[\"Pablo Picasso\"],[\"Wayne Gretzky\"],[\"Theodore Roosevelt\"],[\"Buddha\"],[\"Thomas Edison\"],[\"Lao Tzu\"],[\"Nelson Mandela\"],[\"Jimmy Dean\"],[\"Walt Disney\"],[\"Zig Ziglar\"],[\"Albert Einstein\"],[\"Abraham Lincoln\"],[\"Albert Einstein\"],[\"Confucius\"],[\"Pablo Picasso\"],[\"Wayne Gretzky\"],[\"Theodore Roosevelt\"],[\"Buddha\"],[\"Thomas Edison\"],[\"Lao Tzu\"],[\"Nelson Mandela\"],[\"Jimmy Dean\"],[\"Walt Disney\"],[\"Zig Ziglar\"],[\"Albert Einstein\"],[\"Abraham Lincoln\"],[\"Albert Einstein\"],[\"Confucius\"],[\"Pablo Picasso\"],[\"Wayne Gretzky\"],[\"Theodore Roosevelt\"],[\"Buddha\"],[\"Thomas Edison\"],[\"Lao Tzu\"],[\"Nelson Mandela\"],[\"Jimmy Dean\"],[\"Walt Disney\"],[\"Zig Ziglar\"],[\"Albert Einstein\"],[\"Abraham Lincoln\"],[\"Albert Einstein\"],[\"Confucius\"],[\"Pablo Picasso\"],[\"Wayne Gretzky\"],[\"Theodore Roosevelt\"],[\"Buddha\"],[\"Thomas Edison\"],[\"Lao Tzu\"],[\"Nelson Mandela\"],[\"Jimmy Dean\"],[\"Walt Disney\"],[\"Zig Ziglar\"],[\"Albert Einstein\"],[\"Abraham Lincoln\"],[\"Albert Einstein\"],[\"Confucius\"],[\"Pablo Picasso\"],[\"Wayne Gretzky\"],[\"Theodore Roosevelt\"],[\"Buddha\"],[\"Thomas Edison\"],[\"Lao Tzu\"],[\"Nelson Mandela\"],[\"Jimmy Dean\"],[\"Walt Disney\"],[\"Zig Ziglar\"],[\"Albert Einstein\"],[\"Abraham Lincoln\"],[\"Albert Einstein\"],[\"Confucius\"],[\"Pablo Picasso\"],[\"Wayne Gretzky\"],[\"Theodore Roosevelt\"],[\"Buddha\"],[\"Thomas Edison\"],[\"Lao Tzu\"],[\"Nelson Mandela\"],[\"Jimmy Dean\"],[\"Walt Disney\"],[\"Zig Ziglar\"],[\"Albert Einstein\"],[\"Abraham Lincoln\"],[\"Albert Einstein\"],[\"Confucius\"],[\"Pablo Picasso\"],[\"Wayne Gretzky\"],[\"Theodore Roosevelt\"],[\"Buddha\"],[\"Thomas Edison\"],[\"Lao Tzu\"],[\"Nelson Mandela\"],[\"Jimmy Dean\"],[\"Walt Disney\"],[\"Zig Ziglar\"],[\"Albert Einstein\"],[\"Abraham Lincoln\"],[\"Albert Einstein\"],[\"Confucius\"],[\"Pablo Picasso\"],[\"Wayne Gretzky\"],[\"Theodore Roosevelt\"],[\"Buddha\"],[\"Thomas Edison\"],[\"Lao Tzu\"],[\"Nelson Mandela\"],[\"Jimmy Dean\"],[\"Walt Disney\"],[\"Zig Ziglar\"],[\"Albert Einstein\"],[\"Abraham Lincoln\"],[\"Albert Einstein\"],[\"Confucius\"],[\"Pablo Picasso\"],[\"Wayne Gretzky\"],[\"Theodore Roosevelt\"],[\"Buddha\"],[\"Thomas Edison\"],[\"Lao Tzu\"],[\"Nelson Mandela\"],[\"Jimmy Dean\"],[\"Walt Disney\"],[\"Zig Ziglar\"],[\"Albert Einstein\"],[\"Abraham Lincoln\"],[\"Albert Einstein\"],[\"Confucius\"],[\"Pablo Picasso\"],[\"Wayne Gretzky\"],[\"Theodore Roosevelt\"],[\"Buddha\"],[\"Thomas Edison\"],[\"Lao Tzu\"],[\"Nelson Mandela\"],[\"Jimmy Dean\"],[\"Walt Disney\"],[\"Zig Ziglar\"],[\"Albert Einstein\"],[\"Abraham Lincoln\"],[\"Albert Einstein\"],[\"Confucius\"],[\"Pablo Picasso\"],[\"Wayne Gretzky\"],[\"Theodore Roosevelt\"],[\"Buddha\"],[\"Thomas Edison\"],[\"Lao Tzu\"],[\"Nelson Mandela\"],[\"Jimmy Dean\"],[\"Walt Disney\"],[\"Zig Ziglar\"],[\"Albert Einstein\"],[\"Abraham Lincoln\"],[\"Albert Einstein\"],[\"Confucius\"],[\"Pablo Picasso\"],[\"Wayne Gretzky\"],[\"Theodore Roosevelt\"],[\"Buddha\"],[\"Thomas Edison\"],[\"Lao Tzu\"],[\"Nelson Mandela\"],[\"Jimmy Dean\"],[\"Walt Disney\"],[\"Zig Ziglar\"],[\"Albert Einstein\"],[\"Abraham Lincoln\"],[\"Albert Einstein\"],[\"Confucius\"],[\"Pablo Picasso\"],[\"Wayne Gretzky\"],[\"Theodore Roosevelt\"],[\"Buddha\"],[\"Thomas Edison\"],[\"Lao Tzu\"],[\"Nelson Mandela\"],[\"Jimmy Dean\"],[\"Walt Disney\"],[\"Zig Ziglar\"],[\"Albert Einstein\"],[\"Abraham Lincoln\"],[\"Albert Einstein\"],[\"Confucius\"],[\"Pablo Picasso\"],[\"Wayne Gretzky\"],[\"Theodore Roosevelt\"],[\"Buddha\"],[\"Thomas Edison\"],[\"Lao Tzu\"],[\"Nelson Mandela\"],[\"Jimmy Dean\"],[\"Walt Disney\"],[\"Zig Ziglar\"],[\"Albert Einstein\"],[\"Abraham Lincoln\"],[\"Albert Einstein\"],[\"Confucius\"],[\"Pablo Picasso\"],[\"Wayne Gretzky\"],[\"Theodore Roosevelt\"],[\"Buddha\"],[\"Thomas Edison\"],[\"Lao Tzu\"],[\"Nelson Mandela\"],[\"Jimmy Dean\"],[\"Walt Disney\"],[\"Zig Ziglar\"],[\"Albert Einstein\"],[\"Abraham Lincoln\"],[\"Albert Einstein\"],[\"Confucius\"],[\"Pablo Picasso\"],[\"Wayne Gretzky\"],[\"Theodore Roosevelt\"],[\"Buddha\"],[\"Thomas Edison\"],[\"Lao Tzu\"],[\"Nelson Mandela\"],[\"Jimmy Dean\"],[\"Walt Disney\"],[\"Zig Ziglar\"],[\"Albert Einstein\"],[\"Abraham Lincoln\"],[\"Albert Einstein\"],[\"Confucius\"],[\"Pablo Picasso\"],[\"Wayne Gretzky\"],[\"Theodore Roosevelt\"],[\"Buddha\"],[\"Thomas Edison\"],[\"Lao Tzu\"],[\"Nelson Mandela\"],[\"Jimmy Dean\"],[\"Walt Disney\"],[\"Zig Ziglar\"],[\"Albert Einstein\"],[\"Abraham Lincoln\"],[\"Albert Einstein\"],[\"Confucius\"],[\"Pablo Picasso\"],[\"Wayne Gretzky\"],[\"Theodore Roosevelt\"],[\"Buddha\"],[\"Thomas Edison\"],[\"Lao Tzu\"],[\"Nelson Mandela\"],[\"Jimmy Dean\"],[\"Walt Disney\"],[\"Zig Ziglar\"],[\"Albert Einstein\"],[\"Abraham Lincoln\"],[\"Albert Einstein\"],[\"Confucius\"],[\"Pablo Picasso\"],[\"Wayne Gretzky\"],[\"Theodore Roosevelt\"],[\"Buddha\"],[\"Thomas Edison\"],[\"Lao Tzu\"],[\"Nelson Mandela\"],[\"Jimmy Dean\"],[\"Walt Disney\"],[\"Zig Ziglar\"],[\"Albert Einstein\"],[\"Abraham Lincoln\"],[\"Albert Einstein\"],[\"Confucius\"],[\"Pablo Picasso\"],[\"Wayne Gretzky\"],[\"Theodore Roosevelt\"],[\"Buddha\"],[\"Thomas Edison\"],[\"Lao Tzu\"],[\"Nelson Mandela\"],[\"Jimmy Dean\"],[\"Walt Disney\"],[\"Zig Ziglar\"],[\"Albert Einstein\"],[\"Abraham Lincoln\"],[\"Albert Einstein\"],[\"Confucius\"],[\"Pablo Picasso\"],[\"Wayne Gretzky\"],[\"Theodore Roosevelt\"],[\"Buddha\"],[\"Thomas Edison\"],[\"Lao Tzu\"],[\"Nelson Mandela\"],[\"Jimmy Dean\"],[\"Walt Disney\"],[\"Zig Ziglar\"],[\"Albert Einstein\"],[\"Abraham Lincoln\"],[\"Albert Einstein\"],[\"Confucius\"],[\"Pablo Picasso\"],[\"Wayne Gretzky\"],[\"Theodore Roosevelt\"],[\"Buddha\"],[\"Thomas Edison\"],[\"Lao Tzu\"],[\"Nelson Mandela\"],[\"Jimmy Dean\"],[\"Walt Disney\"],[\"Zig Ziglar\"],[\"Albert Einstein\"],[\"Abraham Lincoln\"],[\"Albert Einstein\"],[\"Confucius\"],[\"Pablo Picasso\"],[\"Wayne Gretzky\"],[\"Theodore Roosevelt\"],[\"Buddha\"],[\"Thomas Edison\"],[\"Lao Tzu\"],[\"Nelson Mandela\"],[\"Jimmy Dean\"],[\"Walt Disney\"],[\"Zig Ziglar\"],[\"Albert Einstein\"],[\"Abraham Lincoln\"],[\"Albert Einstein\"],[\"Confucius\"],[\"Pablo Picasso\"],[\"Wayne Gretzky\"],[\"Theodore Roosevelt\"],[\"Buddha\"],[\"Thomas Edison\"],[\"Lao Tzu\"],[\"Nelson Mandela\"],[\"Jimmy Dean\"],[\"Walt Disney\"],[\"Zig Ziglar\"],[\"Albert Einstein\"],[\"Abraham Lincoln\"],[\"Albert Einstein\"],[\"Confucius\"],[\"Pablo Picasso\"],[\"Wayne Gretzky\"],[\"Theodore Roosevelt\"],[\"Buddha\"],[\"Thomas Edison\"],[\"Lao Tzu\"],[\"Nelson Mandela\"],[\"Jimmy Dean\"],[\"Walt Disney\"],[\"Zig Ziglar\"],[\"Albert Einstein\"],[\"Abraham Lincoln\"],[\"Albert Einstein\"],[\"Confucius\"],[\"Pablo Picasso\"],[\"Wayne Gretzky\"],[\"Theodore Roosevelt\"],[\"Buddha\"],[\"Thomas Edison\"],[\"Lao Tzu\"],[\"Nelson Mandela\"],[\"Jimmy Dean\"],[\"Walt Disney\"],[\"Zig Ziglar\"],[\"Albert Einstein\"],[\"Abraham Lincoln\"],[\"Albert Einstein\"],[\"Confucius\"],[\"Pablo Picasso\"],[\"Wayne Gretzky\"],[\"Theodore Roosevelt\"],[\"Buddha\"],[\"Thomas Edison\"],[\"Lao Tzu\"],[\"Nelson Mandela\"],[\"Jimmy Dean\"],[\"Walt Disney\"],[\"Zig Ziglar\"],[\"Albert Einstein\"],[\"Abraham Lincoln\"],[\"Albert Einstein\"],[\"Confucius\"],[\"Pablo Picasso\"],[\"Wayne Gretzky\"],[\"Theodore Roosevelt\"],[\"Buddha\"],[\"Thomas Edison\"],[\"Lao Tzu\"],[\"Nelson Mandela\"],[\"Jimmy Dean\"],[\"Walt Disney\"],[\"Zig Ziglar\"],[\"Albert Einstein\"],[\"Abraham Lincoln\"],[\"Albert Einstein\"],[\"Confucius\"],[\"Pablo Picasso\"],[\"Wayne Gretzky\"],[\"Theodore Roosevelt\"],[\"Buddha\"],[\"Thomas Edison\"],[\"Lao Tzu\"],[\"Nelson Mandela\"],[\"Jimmy Dean\"],[\"Walt Disney\"],[\"Zig Ziglar\"],[\"Albert Einstein\"],[\"Abraham Lincoln\"],[\"Albert Einstein\"],[\"Confucius\"],[\"Pablo Picasso\"],[\"Wayne Gretzky\"],[\"Theodore Roosevelt\"],[\"Buddha\"],[\"Thomas Edison\"],[\"Lao Tzu\"],[\"Nelson Mandela\"],[\"Jimmy Dean\"],[\"Walt Disney\"],[\"Zig Ziglar\"],[\"Albert Einstein\"],[\"Abraham Lincoln\"],[\"Albert Einstein\"],[\"Confucius\"],[\"Pablo Picasso\"],[\"Wayne Gretzky\"],[\"Theodore Roosevelt\"],[\"Buddha\"],[\"Thomas Edison\"],[\"Lao Tzu\"],[\"Nelson Mandela\"],[\"Jimmy Dean\"],[\"Walt Disney\"],[\"Zig Ziglar\"],[\"Albert Einstein\"],[\"Abraham Lincoln\"],[\"Albert Einstein\"],[\"Confucius\"],[\"Pablo Picasso\"],[\"Wayne Gretzky\"],[\"Theodore Roosevelt\"],[\"Buddha\"],[\"Thomas Edison\"],[\"Lao Tzu\"],[\"Nelson Mandela\"],[\"Jimmy Dean\"],[\"Walt Disney\"],[\"Zig Ziglar\"],[\"Albert Einstein\"],[\"Abraham Lincoln\"],[\"Albert Einstein\"],[\"Confucius\"],[\"Pablo Picasso\"],[\"Wayne Gretzky\"],[\"Theodore Roosevelt\"],[\"Buddha\"],[\"Thomas Edison\"],[\"Lao Tzu\"],[\"Nelson Mandela\"],[\"Jimmy Dean\"],[\"Walt Disney\"],[\"Zig Ziglar\"],[\"Albert Einstein\"],[\"Abraham Lincoln\"],[\"Albert Einstein\"],[\"Confucius\"],[\"Pablo Picasso\"],[\"Wayne Gretzky\"],[\"Theodore Roosevelt\"],[\"Buddha\"],[\"Thomas Edison\"],[\"Lao Tzu\"],[\"Nelson Mandela\"],[\"Jimmy Dean\"],[\"Walt Disney\"],[\"Zig Ziglar\"],[\"Albert Einstein\"],[\"Abraham Lincoln\"],[\"Albert Einstein\"],[\"Confucius\"],[\"Pablo Picasso\"],[\"Wayne Gretzky\"],[\"Theodore Roosevelt\"],[\"Buddha\"],[\"Thomas Edison\"],[\"Lao Tzu\"],[\"Nelson Mandela\"],[\"Jimmy Dean\"],[\"Walt Disney\"],[\"Zig Ziglar\"],[\"Albert Einstein\"],[\"Abraham Lincoln\"],[\"Albert Einstein\"],[\"Confucius\"],[\"Pablo Picasso\"],[\"Wayne Gretzky\"],[\"Theodore Roosevelt\"],[\"Buddha\"],[\"Thomas Edison\"],[\"Lao Tzu\"],[\"Nelson Mandela\"],[\"Jimmy Dean\"],[\"Walt Disney\"],[\"Zig Ziglar\"],[\"Albert Einstein\"],[\"Abraham Lincoln\"],[\"Albert Einstein\"],[\"Confucius\"],[\"Pablo Picasso\"],[\"Wayne Gretzky\"],[\"Theodore Roosevelt\"],[\"Buddha\"],[\"Thomas Edison\"],[\"Lao Tzu\"],[\"Nelson Mandela\"],[\"Jimmy Dean\"],[\"Walt Disney\"],[\"Zig Ziglar\"],[\"Albert Einstein\"],[\"Abraham Lincoln\"],[\"Albert Einstein\"],[\"Confucius\"],[\"Pablo Picasso\"],[\"Wayne Gretzky\"],[\"Theodore Roosevelt\"],[\"Buddha\"],[\"Thomas Edison\"],[\"Lao Tzu\"],[\"Nelson Mandela\"],[\"Jimmy Dean\"],[\"Walt Disney\"],[\"Zig Ziglar\"],[\"Albert Einstein\"],[\"Abraham Lincoln\"],[\"Albert Einstein\"],[\"Confucius\"],[\"Pablo Picasso\"],[\"Wayne Gretzky\"],[\"Theodore Roosevelt\"],[\"Buddha\"],[\"Thomas Edison\"],[\"Lao Tzu\"],[\"Nelson Mandela\"],[\"Jimmy Dean\"],[\"Walt Disney\"],[\"Zig Ziglar\"],[\"Albert Einstein\"],[\"Abraham Lincoln\"],[\"Albert Einstein\"],[\"Confucius\"],[\"Pablo Picasso\"],[\"Wayne Gretzky\"],[\"Theodore Roosevelt\"],[\"Buddha\"],[\"Thomas Edison\"],[\"Lao Tzu\"],[\"Nelson Mandela\"],[\"Jimmy Dean\"],[\"Walt Disney\"],[\"Zig Ziglar\"],[\"Albert Einstein\"],[\"Abraham Lincoln\"],[\"Albert Einstein\"],[\"Confucius\"],[\"Pablo Picasso\"],[\"Wayne Gretzky\"],[\"Theodore Roosevelt\"],[\"Buddha\"],[\"Thomas Edison\"],[\"Lao Tzu\"],[\"Nelson Mandela\"]],\"domain\":{\"x\":[0.0,1.0],\"y\":[0.0,1.0]},\"hovertemplate\":\"Author=%{customdata[0]}\\u003cextra\\u003e\\u003c\\u002fextra\\u003e\",\"labels\":[\"Franklin D. Roosevelt\",\"The Bible\",\"Ralph Waldo Emerson\",\"Winston S. Churchill\",\"Steve Jobs\",\"John Lennon\",\"Wayne Gretzky\",\"Mae West\",\"Theodore Roosevelt\",\"Norman Vincent Peale\",\"Robert Frost\",\"Robert Frost\",\"Dr. Seuss\",\"Mahatma Gandhi\",\"Eleanor Roosevelt\",\"Thomas Edison\",\"Dalai Lama\",\"Franklin D. Roosevelt\",\"James Baldwin\",\"Lao Tzu\",\"E.E. Cummings\",\"Confucius\",\"Buddha\",\"Charles R. Swindoll\",\"Audrey Hepburn\",\"Joseph Campbell\",\"Eleanor Roosevelt\",\"Steve Jobs\",\"Nelson Mandela\",\"Martin Luther King Jr.\",\"Walt Disney\",\"Booker T. Washington\",\"Jimmy Dean\",\"Helen Keller\",\"Frank Sinatra\",\"Buddha\",\"Mark Twain\",\"George Eliot\",\"Albert Schweitzer\",\"Zig Ziglar\",\"Albert Einstein\",\"Abraham Lincoln\",\"Helen Keller\",\"Sam Levenson\",\"Albert Einstein\",\"Confucius\",\"Pablo Picasso\",\"Wayne Gretzky\",\"Theodore Roosevelt\",\"Buddha\",\"Thomas Edison\",\"Lao Tzu\",\"Nelson Mandela\",\"Jimmy Dean\",\"Walt Disney\",\"Zig Ziglar\",\"Albert Einstein\",\"Abraham Lincoln\",\"Albert Einstein\",\"Confucius\",\"Pablo Picasso\",\"Wayne Gretzky\",\"Theodore Roosevelt\",\"Buddha\",\"Thomas Edison\",\"Lao Tzu\",\"Nelson Mandela\",\"Jimmy Dean\",\"Walt Disney\",\"Zig Ziglar\",\"Albert Einstein\",\"Abraham Lincoln\",\"Albert Einstein\",\"Confucius\",\"Pablo Picasso\",\"Wayne Gretzky\",\"Theodore Roosevelt\",\"Buddha\",\"Thomas Edison\",\"Lao Tzu\",\"Nelson Mandela\",\"Jimmy Dean\",\"Walt Disney\",\"Zig Ziglar\",\"Albert Einstein\",\"Abraham Lincoln\",\"Albert Einstein\",\"Confucius\",\"Pablo Picasso\",\"Wayne Gretzky\",\"Theodore Roosevelt\",\"Buddha\",\"Thomas Edison\",\"Lao Tzu\",\"Nelson Mandela\",\"Jimmy Dean\",\"Walt Disney\",\"Zig Ziglar\",\"Albert Einstein\",\"Abraham Lincoln\",\"Albert Einstein\",\"Confucius\",\"Pablo Picasso\",\"Wayne Gretzky\",\"Theodore Roosevelt\",\"Buddha\",\"Thomas Edison\",\"Lao Tzu\",\"Nelson Mandela\",\"Jimmy Dean\",\"Walt Disney\",\"Zig Ziglar\",\"Albert Einstein\",\"Abraham Lincoln\",\"Albert Einstein\",\"Confucius\",\"Pablo Picasso\",\"Wayne Gretzky\",\"Theodore Roosevelt\",\"Buddha\",\"Thomas Edison\",\"Lao Tzu\",\"Nelson Mandela\",\"Jimmy Dean\",\"Walt Disney\",\"Zig Ziglar\",\"Albert Einstein\",\"Abraham Lincoln\",\"Albert Einstein\",\"Confucius\",\"Pablo Picasso\",\"Wayne Gretzky\",\"Theodore Roosevelt\",\"Buddha\",\"Thomas Edison\",\"Lao Tzu\",\"Nelson Mandela\",\"Jimmy Dean\",\"Walt Disney\",\"Zig Ziglar\",\"Albert Einstein\",\"Abraham Lincoln\",\"Albert Einstein\",\"Confucius\",\"Pablo Picasso\",\"Wayne Gretzky\",\"Theodore Roosevelt\",\"Buddha\",\"Thomas Edison\",\"Lao Tzu\",\"Nelson Mandela\",\"Jimmy Dean\",\"Walt Disney\",\"Zig Ziglar\",\"Albert Einstein\",\"Abraham Lincoln\",\"Albert Einstein\",\"Confucius\",\"Pablo Picasso\",\"Wayne Gretzky\",\"Theodore Roosevelt\",\"Buddha\",\"Thomas Edison\",\"Lao Tzu\",\"Nelson Mandela\",\"Jimmy Dean\",\"Walt Disney\",\"Zig Ziglar\",\"Albert Einstein\",\"Abraham Lincoln\",\"Albert Einstein\",\"Confucius\",\"Pablo Picasso\",\"Wayne Gretzky\",\"Theodore Roosevelt\",\"Buddha\",\"Thomas Edison\",\"Lao Tzu\",\"Nelson Mandela\",\"Jimmy Dean\",\"Walt Disney\",\"Zig Ziglar\",\"Albert Einstein\",\"Abraham Lincoln\",\"Albert Einstein\",\"Confucius\",\"Pablo Picasso\",\"Wayne Gretzky\",\"Theodore Roosevelt\",\"Buddha\",\"Thomas Edison\",\"Lao Tzu\",\"Nelson Mandela\",\"Jimmy Dean\",\"Walt Disney\",\"Zig Ziglar\",\"Albert Einstein\",\"Abraham Lincoln\",\"Albert Einstein\",\"Confucius\",\"Pablo Picasso\",\"Wayne Gretzky\",\"Theodore Roosevelt\",\"Buddha\",\"Thomas Edison\",\"Lao Tzu\",\"Nelson Mandela\",\"Jimmy Dean\",\"Walt Disney\",\"Zig Ziglar\",\"Albert Einstein\",\"Abraham Lincoln\",\"Albert Einstein\",\"Confucius\",\"Pablo Picasso\",\"Wayne Gretzky\",\"Theodore Roosevelt\",\"Buddha\",\"Thomas Edison\",\"Lao Tzu\",\"Nelson Mandela\",\"Jimmy Dean\",\"Walt Disney\",\"Zig Ziglar\",\"Albert Einstein\",\"Abraham Lincoln\",\"Albert Einstein\",\"Confucius\",\"Pablo Picasso\",\"Wayne Gretzky\",\"Theodore Roosevelt\",\"Buddha\",\"Thomas Edison\",\"Lao Tzu\",\"Nelson Mandela\",\"Jimmy Dean\",\"Walt Disney\",\"Zig Ziglar\",\"Albert Einstein\",\"Abraham Lincoln\",\"Albert Einstein\",\"Confucius\",\"Pablo Picasso\",\"Wayne Gretzky\",\"Theodore Roosevelt\",\"Buddha\",\"Thomas Edison\",\"Lao Tzu\",\"Nelson Mandela\",\"Jimmy Dean\",\"Walt Disney\",\"Zig Ziglar\",\"Albert Einstein\",\"Abraham Lincoln\",\"Albert Einstein\",\"Confucius\",\"Pablo Picasso\",\"Wayne Gretzky\",\"Theodore Roosevelt\",\"Buddha\",\"Thomas Edison\",\"Lao Tzu\",\"Nelson Mandela\",\"Jimmy Dean\",\"Walt Disney\",\"Zig Ziglar\",\"Albert Einstein\",\"Abraham Lincoln\",\"Albert Einstein\",\"Confucius\",\"Pablo Picasso\",\"Wayne Gretzky\",\"Theodore Roosevelt\",\"Buddha\",\"Thomas Edison\",\"Lao Tzu\",\"Nelson Mandela\",\"Jimmy Dean\",\"Walt Disney\",\"Zig Ziglar\",\"Albert Einstein\",\"Abraham Lincoln\",\"Albert Einstein\",\"Confucius\",\"Pablo Picasso\",\"Wayne Gretzky\",\"Theodore Roosevelt\",\"Buddha\",\"Thomas Edison\",\"Lao Tzu\",\"Nelson Mandela\",\"Jimmy Dean\",\"Walt Disney\",\"Zig Ziglar\",\"Albert Einstein\",\"Abraham Lincoln\",\"Albert Einstein\",\"Confucius\",\"Pablo Picasso\",\"Wayne Gretzky\",\"Theodore Roosevelt\",\"Buddha\",\"Thomas Edison\",\"Lao Tzu\",\"Nelson Mandela\",\"Jimmy Dean\",\"Walt Disney\",\"Zig Ziglar\",\"Albert Einstein\",\"Abraham Lincoln\",\"Albert Einstein\",\"Confucius\",\"Pablo Picasso\",\"Wayne Gretzky\",\"Theodore Roosevelt\",\"Buddha\",\"Thomas Edison\",\"Lao Tzu\",\"Nelson Mandela\",\"Jimmy Dean\",\"Walt Disney\",\"Zig Ziglar\",\"Albert Einstein\",\"Abraham Lincoln\",\"Albert Einstein\",\"Confucius\",\"Pablo Picasso\",\"Wayne Gretzky\",\"Theodore Roosevelt\",\"Buddha\",\"Thomas Edison\",\"Lao Tzu\",\"Nelson Mandela\",\"Jimmy Dean\",\"Walt Disney\",\"Zig Ziglar\",\"Albert Einstein\",\"Abraham Lincoln\",\"Albert Einstein\",\"Confucius\",\"Pablo Picasso\",\"Wayne Gretzky\",\"Theodore Roosevelt\",\"Buddha\",\"Thomas Edison\",\"Lao Tzu\",\"Nelson Mandela\",\"Jimmy Dean\",\"Walt Disney\",\"Zig Ziglar\",\"Albert Einstein\",\"Abraham Lincoln\",\"Albert Einstein\",\"Confucius\",\"Pablo Picasso\",\"Wayne Gretzky\",\"Theodore Roosevelt\",\"Buddha\",\"Thomas Edison\",\"Lao Tzu\",\"Nelson Mandela\",\"Jimmy Dean\",\"Walt Disney\",\"Zig Ziglar\",\"Albert Einstein\",\"Abraham Lincoln\",\"Albert Einstein\",\"Confucius\",\"Pablo Picasso\",\"Wayne Gretzky\",\"Theodore Roosevelt\",\"Buddha\",\"Thomas Edison\",\"Lao Tzu\",\"Nelson Mandela\",\"Jimmy Dean\",\"Walt Disney\",\"Zig Ziglar\",\"Albert Einstein\",\"Abraham Lincoln\",\"Albert Einstein\",\"Confucius\",\"Pablo Picasso\",\"Wayne Gretzky\",\"Theodore Roosevelt\",\"Buddha\",\"Thomas Edison\",\"Lao Tzu\",\"Nelson Mandela\",\"Jimmy Dean\",\"Walt Disney\",\"Zig Ziglar\",\"Albert Einstein\",\"Abraham Lincoln\",\"Albert Einstein\",\"Confucius\",\"Pablo Picasso\",\"Wayne Gretzky\",\"Theodore Roosevelt\",\"Buddha\",\"Thomas Edison\",\"Lao Tzu\",\"Nelson Mandela\",\"Jimmy Dean\",\"Walt Disney\",\"Zig Ziglar\",\"Albert Einstein\",\"Abraham Lincoln\",\"Albert Einstein\",\"Confucius\",\"Pablo Picasso\",\"Wayne Gretzky\",\"Theodore Roosevelt\",\"Buddha\",\"Thomas Edison\",\"Lao Tzu\",\"Nelson Mandela\",\"Jimmy Dean\",\"Walt Disney\",\"Zig Ziglar\",\"Albert Einstein\",\"Abraham Lincoln\",\"Albert Einstein\",\"Confucius\",\"Pablo Picasso\",\"Wayne Gretzky\",\"Theodore Roosevelt\",\"Buddha\",\"Thomas Edison\",\"Lao Tzu\",\"Nelson Mandela\",\"Jimmy Dean\",\"Walt Disney\",\"Zig Ziglar\",\"Albert Einstein\",\"Abraham Lincoln\",\"Albert Einstein\",\"Confucius\",\"Pablo Picasso\",\"Wayne Gretzky\",\"Theodore Roosevelt\",\"Buddha\",\"Thomas Edison\",\"Lao Tzu\",\"Nelson Mandela\",\"Jimmy Dean\",\"Walt Disney\",\"Zig Ziglar\",\"Albert Einstein\",\"Abraham Lincoln\",\"Albert Einstein\",\"Confucius\",\"Pablo Picasso\",\"Wayne Gretzky\",\"Theodore Roosevelt\",\"Buddha\",\"Thomas Edison\",\"Lao Tzu\",\"Nelson Mandela\",\"Jimmy Dean\",\"Walt Disney\",\"Zig Ziglar\",\"Albert Einstein\",\"Abraham Lincoln\",\"Albert Einstein\",\"Confucius\",\"Pablo Picasso\",\"Wayne Gretzky\",\"Theodore Roosevelt\",\"Buddha\",\"Thomas Edison\",\"Lao Tzu\",\"Nelson Mandela\",\"Jimmy Dean\",\"Walt Disney\",\"Zig Ziglar\",\"Albert Einstein\",\"Abraham Lincoln\",\"Albert Einstein\",\"Confucius\",\"Pablo Picasso\",\"Wayne Gretzky\",\"Theodore Roosevelt\",\"Buddha\",\"Thomas Edison\",\"Lao Tzu\",\"Nelson Mandela\",\"Jimmy Dean\",\"Walt Disney\",\"Zig Ziglar\",\"Albert Einstein\",\"Abraham Lincoln\",\"Albert Einstein\",\"Confucius\",\"Pablo Picasso\",\"Wayne Gretzky\",\"Theodore Roosevelt\",\"Buddha\",\"Thomas Edison\",\"Lao Tzu\",\"Nelson Mandela\",\"Jimmy Dean\",\"Walt Disney\",\"Zig Ziglar\",\"Albert Einstein\",\"Abraham Lincoln\",\"Albert Einstein\",\"Confucius\",\"Pablo Picasso\",\"Wayne Gretzky\",\"Theodore Roosevelt\",\"Buddha\",\"Thomas Edison\",\"Lao Tzu\",\"Nelson Mandela\",\"Jimmy Dean\",\"Walt Disney\",\"Zig Ziglar\",\"Albert Einstein\",\"Abraham Lincoln\",\"Albert Einstein\",\"Confucius\",\"Pablo Picasso\",\"Wayne Gretzky\",\"Theodore Roosevelt\",\"Buddha\",\"Thomas Edison\",\"Lao Tzu\",\"Nelson Mandela\",\"Jimmy Dean\",\"Walt Disney\",\"Zig Ziglar\",\"Albert Einstein\",\"Abraham Lincoln\",\"Albert Einstein\",\"Confucius\",\"Pablo Picasso\",\"Wayne Gretzky\",\"Theodore Roosevelt\",\"Buddha\",\"Thomas Edison\",\"Lao Tzu\",\"Nelson Mandela\",\"Jimmy Dean\",\"Walt Disney\",\"Zig Ziglar\",\"Albert Einstein\",\"Abraham Lincoln\",\"Albert Einstein\",\"Confucius\",\"Pablo Picasso\",\"Wayne Gretzky\",\"Theodore Roosevelt\",\"Buddha\",\"Thomas Edison\",\"Lao Tzu\",\"Nelson Mandela\",\"Jimmy Dean\",\"Walt Disney\",\"Zig Ziglar\",\"Albert Einstein\",\"Abraham Lincoln\",\"Albert Einstein\",\"Confucius\",\"Pablo Picasso\",\"Wayne Gretzky\",\"Theodore Roosevelt\",\"Buddha\",\"Thomas Edison\",\"Lao Tzu\",\"Nelson Mandela\",\"Jimmy Dean\",\"Walt Disney\",\"Zig Ziglar\",\"Albert Einstein\",\"Abraham Lincoln\",\"Albert Einstein\",\"Confucius\",\"Pablo Picasso\",\"Wayne Gretzky\",\"Theodore Roosevelt\",\"Buddha\",\"Thomas Edison\",\"Lao Tzu\",\"Nelson Mandela\",\"Jimmy Dean\",\"Walt Disney\",\"Zig Ziglar\",\"Albert Einstein\",\"Abraham Lincoln\",\"Albert Einstein\",\"Confucius\",\"Pablo Picasso\",\"Wayne Gretzky\",\"Theodore Roosevelt\",\"Buddha\",\"Thomas Edison\",\"Lao Tzu\",\"Nelson Mandela\",\"Jimmy Dean\",\"Walt Disney\",\"Zig Ziglar\",\"Albert Einstein\",\"Abraham Lincoln\",\"Albert Einstein\",\"Confucius\",\"Pablo Picasso\",\"Wayne Gretzky\",\"Theodore Roosevelt\",\"Buddha\",\"Thomas Edison\",\"Lao Tzu\",\"Nelson Mandela\",\"Jimmy Dean\",\"Walt Disney\",\"Zig Ziglar\",\"Albert Einstein\",\"Abraham Lincoln\",\"Albert Einstein\",\"Confucius\",\"Pablo Picasso\",\"Wayne Gretzky\",\"Theodore Roosevelt\",\"Buddha\",\"Thomas Edison\",\"Lao Tzu\",\"Nelson Mandela\",\"Jimmy Dean\",\"Walt Disney\",\"Zig Ziglar\",\"Albert Einstein\",\"Abraham Lincoln\",\"Albert Einstein\",\"Confucius\",\"Pablo Picasso\",\"Wayne Gretzky\",\"Theodore Roosevelt\",\"Buddha\",\"Thomas Edison\",\"Lao Tzu\",\"Nelson Mandela\",\"Jimmy Dean\",\"Walt Disney\",\"Zig Ziglar\",\"Albert Einstein\",\"Abraham Lincoln\",\"Albert Einstein\",\"Confucius\",\"Pablo Picasso\",\"Wayne Gretzky\",\"Theodore Roosevelt\",\"Buddha\",\"Thomas Edison\",\"Lao Tzu\",\"Nelson Mandela\",\"Jimmy Dean\",\"Walt Disney\",\"Zig Ziglar\",\"Albert Einstein\",\"Abraham Lincoln\",\"Albert Einstein\",\"Confucius\",\"Pablo Picasso\",\"Wayne Gretzky\",\"Theodore Roosevelt\",\"Buddha\",\"Thomas Edison\",\"Lao Tzu\",\"Nelson Mandela\",\"Jimmy Dean\",\"Walt Disney\",\"Zig Ziglar\",\"Albert Einstein\",\"Abraham Lincoln\",\"Albert Einstein\",\"Confucius\",\"Pablo Picasso\",\"Wayne Gretzky\",\"Theodore Roosevelt\",\"Buddha\",\"Thomas Edison\",\"Lao Tzu\",\"Nelson Mandela\",\"Jimmy Dean\",\"Walt Disney\",\"Zig Ziglar\",\"Albert Einstein\",\"Abraham Lincoln\",\"Albert Einstein\",\"Confucius\",\"Pablo Picasso\",\"Wayne Gretzky\",\"Theodore Roosevelt\",\"Buddha\",\"Thomas Edison\",\"Lao Tzu\",\"Nelson Mandela\",\"Jimmy Dean\",\"Walt Disney\",\"Zig Ziglar\",\"Albert Einstein\",\"Abraham Lincoln\",\"Albert Einstein\",\"Confucius\",\"Pablo Picasso\",\"Wayne Gretzky\",\"Theodore Roosevelt\",\"Buddha\",\"Thomas Edison\",\"Lao Tzu\",\"Nelson Mandela\",\"Jimmy Dean\",\"Walt Disney\",\"Zig Ziglar\",\"Albert Einstein\",\"Abraham Lincoln\",\"Albert Einstein\",\"Confucius\",\"Pablo Picasso\",\"Wayne Gretzky\",\"Theodore Roosevelt\",\"Buddha\",\"Thomas Edison\",\"Lao Tzu\",\"Nelson Mandela\"],\"legendgroup\":\"\",\"marker\":{\"colors\":[\"#636efa\",\"#EF553B\",\"#00cc96\",\"#ab63fa\",\"#FFA15A\",\"#19d3f3\",\"#FF6692\",\"#B6E880\",\"#FF97FF\",\"#FECB52\",\"#636efa\",\"#636efa\",\"#EF553B\",\"#00cc96\",\"#ab63fa\",\"#FFA15A\",\"#19d3f3\",\"#636efa\",\"#FF6692\",\"#B6E880\",\"#FF97FF\",\"#FECB52\",\"#636efa\",\"#EF553B\",\"#00cc96\",\"#ab63fa\",\"#ab63fa\",\"#FFA15A\",\"#FFA15A\",\"#19d3f3\",\"#FF6692\",\"#B6E880\",\"#FF97FF\",\"#FECB52\",\"#636efa\",\"#636efa\",\"#EF553B\",\"#00cc96\",\"#ab63fa\",\"#FFA15A\",\"#19d3f3\",\"#FF6692\",\"#FECB52\",\"#B6E880\",\"#19d3f3\",\"#FECB52\",\"#FF97FF\",\"#FF6692\",\"#FF97FF\",\"#636efa\",\"#FFA15A\",\"#B6E880\",\"#FFA15A\",\"#FF97FF\",\"#FF6692\",\"#FFA15A\",\"#19d3f3\",\"#FF6692\",\"#19d3f3\",\"#FECB52\",\"#FF97FF\",\"#FF6692\",\"#FF97FF\",\"#636efa\",\"#FFA15A\",\"#B6E880\",\"#FFA15A\",\"#FF97FF\",\"#FF6692\",\"#FFA15A\",\"#19d3f3\",\"#FF6692\",\"#19d3f3\",\"#FECB52\",\"#FF97FF\",\"#FF6692\",\"#FF97FF\",\"#636efa\",\"#FFA15A\",\"#B6E880\",\"#FFA15A\",\"#FF97FF\",\"#FF6692\",\"#FFA15A\",\"#19d3f3\",\"#FF6692\",\"#19d3f3\",\"#FECB52\",\"#FF97FF\",\"#FF6692\",\"#FF97FF\",\"#636efa\",\"#FFA15A\",\"#B6E880\",\"#FFA15A\",\"#FF97FF\",\"#FF6692\",\"#FFA15A\",\"#19d3f3\",\"#FF6692\",\"#19d3f3\",\"#FECB52\",\"#FF97FF\",\"#FF6692\",\"#FF97FF\",\"#636efa\",\"#FFA15A\",\"#B6E880\",\"#FFA15A\",\"#FF97FF\",\"#FF6692\",\"#FFA15A\",\"#19d3f3\",\"#FF6692\",\"#19d3f3\",\"#FECB52\",\"#FF97FF\",\"#FF6692\",\"#FF97FF\",\"#636efa\",\"#FFA15A\",\"#B6E880\",\"#FFA15A\",\"#FF97FF\",\"#FF6692\",\"#FFA15A\",\"#19d3f3\",\"#FF6692\",\"#19d3f3\",\"#FECB52\",\"#FF97FF\",\"#FF6692\",\"#FF97FF\",\"#636efa\",\"#FFA15A\",\"#B6E880\",\"#FFA15A\",\"#FF97FF\",\"#FF6692\",\"#FFA15A\",\"#19d3f3\",\"#FF6692\",\"#19d3f3\",\"#FECB52\",\"#FF97FF\",\"#FF6692\",\"#FF97FF\",\"#636efa\",\"#FFA15A\",\"#B6E880\",\"#FFA15A\",\"#FF97FF\",\"#FF6692\",\"#FFA15A\",\"#19d3f3\",\"#FF6692\",\"#19d3f3\",\"#FECB52\",\"#FF97FF\",\"#FF6692\",\"#FF97FF\",\"#636efa\",\"#FFA15A\",\"#B6E880\",\"#FFA15A\",\"#FF97FF\",\"#FF6692\",\"#FFA15A\",\"#19d3f3\",\"#FF6692\",\"#19d3f3\",\"#FECB52\",\"#FF97FF\",\"#FF6692\",\"#FF97FF\",\"#636efa\",\"#FFA15A\",\"#B6E880\",\"#FFA15A\",\"#FF97FF\",\"#FF6692\",\"#FFA15A\",\"#19d3f3\",\"#FF6692\",\"#19d3f3\",\"#FECB52\",\"#FF97FF\",\"#FF6692\",\"#FF97FF\",\"#636efa\",\"#FFA15A\",\"#B6E880\",\"#FFA15A\",\"#FF97FF\",\"#FF6692\",\"#FFA15A\",\"#19d3f3\",\"#FF6692\",\"#19d3f3\",\"#FECB52\",\"#FF97FF\",\"#FF6692\",\"#FF97FF\",\"#636efa\",\"#FFA15A\",\"#B6E880\",\"#FFA15A\",\"#FF97FF\",\"#FF6692\",\"#FFA15A\",\"#19d3f3\",\"#FF6692\",\"#19d3f3\",\"#FECB52\",\"#FF97FF\",\"#FF6692\",\"#FF97FF\",\"#636efa\",\"#FFA15A\",\"#B6E880\",\"#FFA15A\",\"#FF97FF\",\"#FF6692\",\"#FFA15A\",\"#19d3f3\",\"#FF6692\",\"#19d3f3\",\"#FECB52\",\"#FF97FF\",\"#FF6692\",\"#FF97FF\",\"#636efa\",\"#FFA15A\",\"#B6E880\",\"#FFA15A\",\"#FF97FF\",\"#FF6692\",\"#FFA15A\",\"#19d3f3\",\"#FF6692\",\"#19d3f3\",\"#FECB52\",\"#FF97FF\",\"#FF6692\",\"#FF97FF\",\"#636efa\",\"#FFA15A\",\"#B6E880\",\"#FFA15A\",\"#FF97FF\",\"#FF6692\",\"#FFA15A\",\"#19d3f3\",\"#FF6692\",\"#19d3f3\",\"#FECB52\",\"#FF97FF\",\"#FF6692\",\"#FF97FF\",\"#636efa\",\"#FFA15A\",\"#B6E880\",\"#FFA15A\",\"#FF97FF\",\"#FF6692\",\"#FFA15A\",\"#19d3f3\",\"#FF6692\",\"#19d3f3\",\"#FECB52\",\"#FF97FF\",\"#FF6692\",\"#FF97FF\",\"#636efa\",\"#FFA15A\",\"#B6E880\",\"#FFA15A\",\"#FF97FF\",\"#FF6692\",\"#FFA15A\",\"#19d3f3\",\"#FF6692\",\"#19d3f3\",\"#FECB52\",\"#FF97FF\",\"#FF6692\",\"#FF97FF\",\"#636efa\",\"#FFA15A\",\"#B6E880\",\"#FFA15A\",\"#FF97FF\",\"#FF6692\",\"#FFA15A\",\"#19d3f3\",\"#FF6692\",\"#19d3f3\",\"#FECB52\",\"#FF97FF\",\"#FF6692\",\"#FF97FF\",\"#636efa\",\"#FFA15A\",\"#B6E880\",\"#FFA15A\",\"#FF97FF\",\"#FF6692\",\"#FFA15A\",\"#19d3f3\",\"#FF6692\",\"#19d3f3\",\"#FECB52\",\"#FF97FF\",\"#FF6692\",\"#FF97FF\",\"#636efa\",\"#FFA15A\",\"#B6E880\",\"#FFA15A\",\"#FF97FF\",\"#FF6692\",\"#FFA15A\",\"#19d3f3\",\"#FF6692\",\"#19d3f3\",\"#FECB52\",\"#FF97FF\",\"#FF6692\",\"#FF97FF\",\"#636efa\",\"#FFA15A\",\"#B6E880\",\"#FFA15A\",\"#FF97FF\",\"#FF6692\",\"#FFA15A\",\"#19d3f3\",\"#FF6692\",\"#19d3f3\",\"#FECB52\",\"#FF97FF\",\"#FF6692\",\"#FF97FF\",\"#636efa\",\"#FFA15A\",\"#B6E880\",\"#FFA15A\",\"#FF97FF\",\"#FF6692\",\"#FFA15A\",\"#19d3f3\",\"#FF6692\",\"#19d3f3\",\"#FECB52\",\"#FF97FF\",\"#FF6692\",\"#FF97FF\",\"#636efa\",\"#FFA15A\",\"#B6E880\",\"#FFA15A\",\"#FF97FF\",\"#FF6692\",\"#FFA15A\",\"#19d3f3\",\"#FF6692\",\"#19d3f3\",\"#FECB52\",\"#FF97FF\",\"#FF6692\",\"#FF97FF\",\"#636efa\",\"#FFA15A\",\"#B6E880\",\"#FFA15A\",\"#FF97FF\",\"#FF6692\",\"#FFA15A\",\"#19d3f3\",\"#FF6692\",\"#19d3f3\",\"#FECB52\",\"#FF97FF\",\"#FF6692\",\"#FF97FF\",\"#636efa\",\"#FFA15A\",\"#B6E880\",\"#FFA15A\",\"#FF97FF\",\"#FF6692\",\"#FFA15A\",\"#19d3f3\",\"#FF6692\",\"#19d3f3\",\"#FECB52\",\"#FF97FF\",\"#FF6692\",\"#FF97FF\",\"#636efa\",\"#FFA15A\",\"#B6E880\",\"#FFA15A\",\"#FF97FF\",\"#FF6692\",\"#FFA15A\",\"#19d3f3\",\"#FF6692\",\"#19d3f3\",\"#FECB52\",\"#FF97FF\",\"#FF6692\",\"#FF97FF\",\"#636efa\",\"#FFA15A\",\"#B6E880\",\"#FFA15A\",\"#FF97FF\",\"#FF6692\",\"#FFA15A\",\"#19d3f3\",\"#FF6692\",\"#19d3f3\",\"#FECB52\",\"#FF97FF\",\"#FF6692\",\"#FF97FF\",\"#636efa\",\"#FFA15A\",\"#B6E880\",\"#FFA15A\",\"#FF97FF\",\"#FF6692\",\"#FFA15A\",\"#19d3f3\",\"#FF6692\",\"#19d3f3\",\"#FECB52\",\"#FF97FF\",\"#FF6692\",\"#FF97FF\",\"#636efa\",\"#FFA15A\",\"#B6E880\",\"#FFA15A\",\"#FF97FF\",\"#FF6692\",\"#FFA15A\",\"#19d3f3\",\"#FF6692\",\"#19d3f3\",\"#FECB52\",\"#FF97FF\",\"#FF6692\",\"#FF97FF\",\"#636efa\",\"#FFA15A\",\"#B6E880\",\"#FFA15A\",\"#FF97FF\",\"#FF6692\",\"#FFA15A\",\"#19d3f3\",\"#FF6692\",\"#19d3f3\",\"#FECB52\",\"#FF97FF\",\"#FF6692\",\"#FF97FF\",\"#636efa\",\"#FFA15A\",\"#B6E880\",\"#FFA15A\",\"#FF97FF\",\"#FF6692\",\"#FFA15A\",\"#19d3f3\",\"#FF6692\",\"#19d3f3\",\"#FECB52\",\"#FF97FF\",\"#FF6692\",\"#FF97FF\",\"#636efa\",\"#FFA15A\",\"#B6E880\",\"#FFA15A\",\"#FF97FF\",\"#FF6692\",\"#FFA15A\",\"#19d3f3\",\"#FF6692\",\"#19d3f3\",\"#FECB52\",\"#FF97FF\",\"#FF6692\",\"#FF97FF\",\"#636efa\",\"#FFA15A\",\"#B6E880\",\"#FFA15A\",\"#FF97FF\",\"#FF6692\",\"#FFA15A\",\"#19d3f3\",\"#FF6692\",\"#19d3f3\",\"#FECB52\",\"#FF97FF\",\"#FF6692\",\"#FF97FF\",\"#636efa\",\"#FFA15A\",\"#B6E880\",\"#FFA15A\",\"#FF97FF\",\"#FF6692\",\"#FFA15A\",\"#19d3f3\",\"#FF6692\",\"#19d3f3\",\"#FECB52\",\"#FF97FF\",\"#FF6692\",\"#FF97FF\",\"#636efa\",\"#FFA15A\",\"#B6E880\",\"#FFA15A\",\"#FF97FF\",\"#FF6692\",\"#FFA15A\",\"#19d3f3\",\"#FF6692\",\"#19d3f3\",\"#FECB52\",\"#FF97FF\",\"#FF6692\",\"#FF97FF\",\"#636efa\",\"#FFA15A\",\"#B6E880\",\"#FFA15A\",\"#FF97FF\",\"#FF6692\",\"#FFA15A\",\"#19d3f3\",\"#FF6692\",\"#19d3f3\",\"#FECB52\",\"#FF97FF\",\"#FF6692\",\"#FF97FF\",\"#636efa\",\"#FFA15A\",\"#B6E880\",\"#FFA15A\",\"#FF97FF\",\"#FF6692\",\"#FFA15A\",\"#19d3f3\",\"#FF6692\",\"#19d3f3\",\"#FECB52\",\"#FF97FF\",\"#FF6692\",\"#FF97FF\",\"#636efa\",\"#FFA15A\",\"#B6E880\",\"#FFA15A\",\"#FF97FF\",\"#FF6692\",\"#FFA15A\",\"#19d3f3\",\"#FF6692\",\"#19d3f3\",\"#FECB52\",\"#FF97FF\",\"#FF6692\",\"#FF97FF\",\"#636efa\",\"#FFA15A\",\"#B6E880\",\"#FFA15A\",\"#FF97FF\",\"#FF6692\",\"#FFA15A\",\"#19d3f3\",\"#FF6692\",\"#19d3f3\",\"#FECB52\",\"#FF97FF\",\"#FF6692\",\"#FF97FF\",\"#636efa\",\"#FFA15A\",\"#B6E880\",\"#FFA15A\",\"#FF97FF\",\"#FF6692\",\"#FFA15A\",\"#19d3f3\",\"#FF6692\",\"#19d3f3\",\"#FECB52\",\"#FF97FF\",\"#FF6692\",\"#FF97FF\",\"#636efa\",\"#FFA15A\",\"#B6E880\",\"#FFA15A\",\"#FF97FF\",\"#FF6692\",\"#FFA15A\",\"#19d3f3\",\"#FF6692\",\"#19d3f3\",\"#FECB52\",\"#FF97FF\",\"#FF6692\",\"#FF97FF\",\"#636efa\",\"#FFA15A\",\"#B6E880\",\"#FFA15A\",\"#FF97FF\",\"#FF6692\",\"#FFA15A\",\"#19d3f3\",\"#FF6692\",\"#19d3f3\",\"#FECB52\",\"#FF97FF\",\"#FF6692\",\"#FF97FF\",\"#636efa\",\"#FFA15A\",\"#B6E880\",\"#FFA15A\",\"#FF97FF\",\"#FF6692\",\"#FFA15A\",\"#19d3f3\",\"#FF6692\",\"#19d3f3\",\"#FECB52\",\"#FF97FF\",\"#FF6692\",\"#FF97FF\",\"#636efa\",\"#FFA15A\",\"#B6E880\",\"#FFA15A\",\"#FF97FF\",\"#FF6692\",\"#FFA15A\",\"#19d3f3\",\"#FF6692\",\"#19d3f3\",\"#FECB52\",\"#FF97FF\",\"#FF6692\",\"#FF97FF\",\"#636efa\",\"#FFA15A\",\"#B6E880\",\"#FFA15A\",\"#FF97FF\",\"#FF6692\",\"#FFA15A\",\"#19d3f3\",\"#FF6692\",\"#19d3f3\",\"#FECB52\",\"#FF97FF\",\"#FF6692\",\"#FF97FF\",\"#636efa\",\"#FFA15A\",\"#B6E880\",\"#FFA15A\",\"#FF97FF\",\"#FF6692\",\"#FFA15A\",\"#19d3f3\",\"#FF6692\",\"#19d3f3\",\"#FECB52\",\"#FF97FF\",\"#FF6692\",\"#FF97FF\",\"#636efa\",\"#FFA15A\",\"#B6E880\",\"#FFA15A\",\"#FF97FF\",\"#FF6692\",\"#FFA15A\",\"#19d3f3\",\"#FF6692\",\"#19d3f3\",\"#FECB52\",\"#FF97FF\",\"#FF6692\",\"#FF97FF\",\"#636efa\",\"#FFA15A\",\"#B6E880\",\"#FFA15A\",\"#FF97FF\",\"#FF6692\",\"#FFA15A\",\"#19d3f3\",\"#FF6692\",\"#19d3f3\",\"#FECB52\",\"#FF97FF\",\"#FF6692\",\"#FF97FF\",\"#636efa\",\"#FFA15A\",\"#B6E880\",\"#FFA15A\"]},\"name\":\"\",\"showlegend\":true,\"type\":\"pie\"}],                        {\"template\":{\"data\":{\"histogram2dcontour\":[{\"type\":\"histogram2dcontour\",\"colorbar\":{\"outlinewidth\":0,\"ticks\":\"\"},\"colorscale\":[[0.0,\"#0d0887\"],[0.1111111111111111,\"#46039f\"],[0.2222222222222222,\"#7201a8\"],[0.3333333333333333,\"#9c179e\"],[0.4444444444444444,\"#bd3786\"],[0.5555555555555556,\"#d8576b\"],[0.6666666666666666,\"#ed7953\"],[0.7777777777777778,\"#fb9f3a\"],[0.8888888888888888,\"#fdca26\"],[1.0,\"#f0f921\"]]}],\"choropleth\":[{\"type\":\"choropleth\",\"colorbar\":{\"outlinewidth\":0,\"ticks\":\"\"}}],\"histogram2d\":[{\"type\":\"histogram2d\",\"colorbar\":{\"outlinewidth\":0,\"ticks\":\"\"},\"colorscale\":[[0.0,\"#0d0887\"],[0.1111111111111111,\"#46039f\"],[0.2222222222222222,\"#7201a8\"],[0.3333333333333333,\"#9c179e\"],[0.4444444444444444,\"#bd3786\"],[0.5555555555555556,\"#d8576b\"],[0.6666666666666666,\"#ed7953\"],[0.7777777777777778,\"#fb9f3a\"],[0.8888888888888888,\"#fdca26\"],[1.0,\"#f0f921\"]]}],\"heatmap\":[{\"type\":\"heatmap\",\"colorbar\":{\"outlinewidth\":0,\"ticks\":\"\"},\"colorscale\":[[0.0,\"#0d0887\"],[0.1111111111111111,\"#46039f\"],[0.2222222222222222,\"#7201a8\"],[0.3333333333333333,\"#9c179e\"],[0.4444444444444444,\"#bd3786\"],[0.5555555555555556,\"#d8576b\"],[0.6666666666666666,\"#ed7953\"],[0.7777777777777778,\"#fb9f3a\"],[0.8888888888888888,\"#fdca26\"],[1.0,\"#f0f921\"]]}],\"heatmapgl\":[{\"type\":\"heatmapgl\",\"colorbar\":{\"outlinewidth\":0,\"ticks\":\"\"},\"colorscale\":[[0.0,\"#0d0887\"],[0.1111111111111111,\"#46039f\"],[0.2222222222222222,\"#7201a8\"],[0.3333333333333333,\"#9c179e\"],[0.4444444444444444,\"#bd3786\"],[0.5555555555555556,\"#d8576b\"],[0.6666666666666666,\"#ed7953\"],[0.7777777777777778,\"#fb9f3a\"],[0.8888888888888888,\"#fdca26\"],[1.0,\"#f0f921\"]]}],\"contourcarpet\":[{\"type\":\"contourcarpet\",\"colorbar\":{\"outlinewidth\":0,\"ticks\":\"\"}}],\"contour\":[{\"type\":\"contour\",\"colorbar\":{\"outlinewidth\":0,\"ticks\":\"\"},\"colorscale\":[[0.0,\"#0d0887\"],[0.1111111111111111,\"#46039f\"],[0.2222222222222222,\"#7201a8\"],[0.3333333333333333,\"#9c179e\"],[0.4444444444444444,\"#bd3786\"],[0.5555555555555556,\"#d8576b\"],[0.6666666666666666,\"#ed7953\"],[0.7777777777777778,\"#fb9f3a\"],[0.8888888888888888,\"#fdca26\"],[1.0,\"#f0f921\"]]}],\"surface\":[{\"type\":\"surface\",\"colorbar\":{\"outlinewidth\":0,\"ticks\":\"\"},\"colorscale\":[[0.0,\"#0d0887\"],[0.1111111111111111,\"#46039f\"],[0.2222222222222222,\"#7201a8\"],[0.3333333333333333,\"#9c179e\"],[0.4444444444444444,\"#bd3786\"],[0.5555555555555556,\"#d8576b\"],[0.6666666666666666,\"#ed7953\"],[0.7777777777777778,\"#fb9f3a\"],[0.8888888888888888,\"#fdca26\"],[1.0,\"#f0f921\"]]}],\"mesh3d\":[{\"type\":\"mesh3d\",\"colorbar\":{\"outlinewidth\":0,\"ticks\":\"\"}}],\"scatter\":[{\"fillpattern\":{\"fillmode\":\"overlay\",\"size\":10,\"solidity\":0.2},\"type\":\"scatter\"}],\"parcoords\":[{\"type\":\"parcoords\",\"line\":{\"colorbar\":{\"outlinewidth\":0,\"ticks\":\"\"}}}],\"scatterpolargl\":[{\"type\":\"scatterpolargl\",\"marker\":{\"colorbar\":{\"outlinewidth\":0,\"ticks\":\"\"}}}],\"bar\":[{\"error_x\":{\"color\":\"#2a3f5f\"},\"error_y\":{\"color\":\"#2a3f5f\"},\"marker\":{\"line\":{\"color\":\"#E5ECF6\",\"width\":0.5},\"pattern\":{\"fillmode\":\"overlay\",\"size\":10,\"solidity\":0.2}},\"type\":\"bar\"}],\"scattergeo\":[{\"type\":\"scattergeo\",\"marker\":{\"colorbar\":{\"outlinewidth\":0,\"ticks\":\"\"}}}],\"scatterpolar\":[{\"type\":\"scatterpolar\",\"marker\":{\"colorbar\":{\"outlinewidth\":0,\"ticks\":\"\"}}}],\"histogram\":[{\"marker\":{\"pattern\":{\"fillmode\":\"overlay\",\"size\":10,\"solidity\":0.2}},\"type\":\"histogram\"}],\"scattergl\":[{\"type\":\"scattergl\",\"marker\":{\"colorbar\":{\"outlinewidth\":0,\"ticks\":\"\"}}}],\"scatter3d\":[{\"type\":\"scatter3d\",\"line\":{\"colorbar\":{\"outlinewidth\":0,\"ticks\":\"\"}},\"marker\":{\"colorbar\":{\"outlinewidth\":0,\"ticks\":\"\"}}}],\"scattermapbox\":[{\"type\":\"scattermapbox\",\"marker\":{\"colorbar\":{\"outlinewidth\":0,\"ticks\":\"\"}}}],\"scatterternary\":[{\"type\":\"scatterternary\",\"marker\":{\"colorbar\":{\"outlinewidth\":0,\"ticks\":\"\"}}}],\"scattercarpet\":[{\"type\":\"scattercarpet\",\"marker\":{\"colorbar\":{\"outlinewidth\":0,\"ticks\":\"\"}}}],\"carpet\":[{\"aaxis\":{\"endlinecolor\":\"#2a3f5f\",\"gridcolor\":\"white\",\"linecolor\":\"white\",\"minorgridcolor\":\"white\",\"startlinecolor\":\"#2a3f5f\"},\"baxis\":{\"endlinecolor\":\"#2a3f5f\",\"gridcolor\":\"white\",\"linecolor\":\"white\",\"minorgridcolor\":\"white\",\"startlinecolor\":\"#2a3f5f\"},\"type\":\"carpet\"}],\"table\":[{\"cells\":{\"fill\":{\"color\":\"#EBF0F8\"},\"line\":{\"color\":\"white\"}},\"header\":{\"fill\":{\"color\":\"#C8D4E3\"},\"line\":{\"color\":\"white\"}},\"type\":\"table\"}],\"barpolar\":[{\"marker\":{\"line\":{\"color\":\"#E5ECF6\",\"width\":0.5},\"pattern\":{\"fillmode\":\"overlay\",\"size\":10,\"solidity\":0.2}},\"type\":\"barpolar\"}],\"pie\":[{\"automargin\":true,\"type\":\"pie\"}]},\"layout\":{\"autotypenumbers\":\"strict\",\"colorway\":[\"#636efa\",\"#EF553B\",\"#00cc96\",\"#ab63fa\",\"#FFA15A\",\"#19d3f3\",\"#FF6692\",\"#B6E880\",\"#FF97FF\",\"#FECB52\"],\"font\":{\"color\":\"#2a3f5f\"},\"hovermode\":\"closest\",\"hoverlabel\":{\"align\":\"left\"},\"paper_bgcolor\":\"white\",\"plot_bgcolor\":\"#E5ECF6\",\"polar\":{\"bgcolor\":\"#E5ECF6\",\"angularaxis\":{\"gridcolor\":\"white\",\"linecolor\":\"white\",\"ticks\":\"\"},\"radialaxis\":{\"gridcolor\":\"white\",\"linecolor\":\"white\",\"ticks\":\"\"}},\"ternary\":{\"bgcolor\":\"#E5ECF6\",\"aaxis\":{\"gridcolor\":\"white\",\"linecolor\":\"white\",\"ticks\":\"\"},\"baxis\":{\"gridcolor\":\"white\",\"linecolor\":\"white\",\"ticks\":\"\"},\"caxis\":{\"gridcolor\":\"white\",\"linecolor\":\"white\",\"ticks\":\"\"}},\"coloraxis\":{\"colorbar\":{\"outlinewidth\":0,\"ticks\":\"\"}},\"colorscale\":{\"sequential\":[[0.0,\"#0d0887\"],[0.1111111111111111,\"#46039f\"],[0.2222222222222222,\"#7201a8\"],[0.3333333333333333,\"#9c179e\"],[0.4444444444444444,\"#bd3786\"],[0.5555555555555556,\"#d8576b\"],[0.6666666666666666,\"#ed7953\"],[0.7777777777777778,\"#fb9f3a\"],[0.8888888888888888,\"#fdca26\"],[1.0,\"#f0f921\"]],\"sequentialminus\":[[0.0,\"#0d0887\"],[0.1111111111111111,\"#46039f\"],[0.2222222222222222,\"#7201a8\"],[0.3333333333333333,\"#9c179e\"],[0.4444444444444444,\"#bd3786\"],[0.5555555555555556,\"#d8576b\"],[0.6666666666666666,\"#ed7953\"],[0.7777777777777778,\"#fb9f3a\"],[0.8888888888888888,\"#fdca26\"],[1.0,\"#f0f921\"]],\"diverging\":[[0,\"#8e0152\"],[0.1,\"#c51b7d\"],[0.2,\"#de77ae\"],[0.3,\"#f1b6da\"],[0.4,\"#fde0ef\"],[0.5,\"#f7f7f7\"],[0.6,\"#e6f5d0\"],[0.7,\"#b8e186\"],[0.8,\"#7fbc41\"],[0.9,\"#4d9221\"],[1,\"#276419\"]]},\"xaxis\":{\"gridcolor\":\"white\",\"linecolor\":\"white\",\"ticks\":\"\",\"title\":{\"standoff\":15},\"zerolinecolor\":\"white\",\"automargin\":true,\"zerolinewidth\":2},\"yaxis\":{\"gridcolor\":\"white\",\"linecolor\":\"white\",\"ticks\":\"\",\"title\":{\"standoff\":15},\"zerolinecolor\":\"white\",\"automargin\":true,\"zerolinewidth\":2},\"scene\":{\"xaxis\":{\"backgroundcolor\":\"#E5ECF6\",\"gridcolor\":\"white\",\"linecolor\":\"white\",\"showbackground\":true,\"ticks\":\"\",\"zerolinecolor\":\"white\",\"gridwidth\":2},\"yaxis\":{\"backgroundcolor\":\"#E5ECF6\",\"gridcolor\":\"white\",\"linecolor\":\"white\",\"showbackground\":true,\"ticks\":\"\",\"zerolinecolor\":\"white\",\"gridwidth\":2},\"zaxis\":{\"backgroundcolor\":\"#E5ECF6\",\"gridcolor\":\"white\",\"linecolor\":\"white\",\"showbackground\":true,\"ticks\":\"\",\"zerolinecolor\":\"white\",\"gridwidth\":2}},\"shapedefaults\":{\"line\":{\"color\":\"#2a3f5f\"}},\"annotationdefaults\":{\"arrowcolor\":\"#2a3f5f\",\"arrowhead\":0,\"arrowwidth\":1},\"geo\":{\"bgcolor\":\"white\",\"landcolor\":\"#E5ECF6\",\"subunitcolor\":\"white\",\"showland\":true,\"showlakes\":true,\"lakecolor\":\"white\"},\"title\":{\"x\":0.05},\"mapbox\":{\"style\":\"light\"}}},\"legend\":{\"tracegroupgap\":0},\"margin\":{\"t\":60}},                        {\"responsive\": true}                    ).then(function(){\n",
       "                            \n",
       "var gd = document.getElementById('4223c9b6-d754-43c6-b756-fba45a050adb');\n",
       "var x = new MutationObserver(function (mutations, observer) {{\n",
       "        var display = window.getComputedStyle(gd).display;\n",
       "        if (!display || display === 'none') {{\n",
       "            console.log([gd, 'removed!']);\n",
       "            Plotly.purge(gd);\n",
       "            observer.disconnect();\n",
       "        }}\n",
       "}});\n",
       "\n",
       "// Listen for the removal of the full notebook cells\n",
       "var notebookContainer = gd.closest('#notebook-container');\n",
       "if (notebookContainer) {{\n",
       "    x.observe(notebookContainer, {childList: true});\n",
       "}}\n",
       "\n",
       "// Listen for the clearing of the current output cell\n",
       "var outputEl = gd.closest('.output');\n",
       "if (outputEl) {{\n",
       "    x.observe(outputEl, {childList: true});\n",
       "}}\n",
       "\n",
       "                        })                };                });            </script>        </div>"
      ]
     },
     "metadata": {},
     "output_type": "display_data"
    }
   ],
   "source": [
    "from plotly import express\n",
    "express.pie(data_frame=df, names='Author', color='Author')"
   ]
  },
  {
   "cell_type": "code",
   "execution_count": 8,
   "id": "f8a54fb8",
   "metadata": {
    "execution": {
     "iopub.execute_input": "2024-04-10T08:17:28.686697Z",
     "iopub.status.busy": "2024-04-10T08:17:28.686274Z",
     "iopub.status.idle": "2024-04-10T08:17:28.795684Z",
     "shell.execute_reply": "2024-04-10T08:17:28.794373Z"
    },
    "papermill": {
     "duration": 0.12538,
     "end_time": "2024-04-10T08:17:28.798332",
     "exception": false,
     "start_time": "2024-04-10T08:17:28.672952",
     "status": "completed"
    },
    "tags": []
   },
   "outputs": [
    {
     "data": {
      "text/html": [
       "<div>                            <div id=\"8bb80b6a-5240-4bb7-927b-0655257c0a22\" class=\"plotly-graph-div\" style=\"height:525px; width:100%;\"></div>            <script type=\"text/javascript\">                require([\"plotly\"], function(Plotly) {                    window.PLOTLYENV=window.PLOTLYENV || {};                                    if (document.getElementById(\"8bb80b6a-5240-4bb7-927b-0655257c0a22\")) {                    Plotly.newPlot(                        \"8bb80b6a-5240-4bb7-927b-0655257c0a22\",                        [{\"alignmentgroup\":\"True\",\"bingroup\":\"x\",\"hovertemplate\":\"x=%{x}\\u003cbr\\u003ecount=%{y}\\u003cextra\\u003e\\u003c\\u002fextra\\u003e\",\"legendgroup\":\"\",\"marker\":{\"color\":\"#636efa\",\"pattern\":{\"shape\":\"\"}},\"name\":\"\",\"offsetgroup\":\"\",\"orientation\":\"v\",\"showlegend\":false,\"x\":[46,28,110,86,53,57,42,59,41,47,75,35,55,48,98,63,70,74,90,53,110,64,50,58,59,91,70,53,43,73,35,54,99,52,36,97,47,52,125,120,91,32,114,51,54,62,35,42,41,50,63,56,43,99,35,120,91,32,54,62,35,42,41,50,63,56,43,99,35,120,91,32,54,62,35,42,41,50,63,56,43,99,35,120,91,32,54,62,35,42,41,50,63,56,43,99,35,120,91,32,54,62,35,42,41,50,63,56,43,99,35,120,91,32,54,62,35,42,41,50,63,56,43,99,35,120,91,32,54,62,35,42,41,50,63,56,43,99,35,120,91,32,54,62,35,42,41,50,63,56,43,99,35,120,91,32,54,62,35,42,41,50,63,56,43,99,35,120,91,32,54,62,35,42,41,50,63,56,43,99,35,120,91,32,54,62,35,42,41,50,63,56,43,99,35,120,91,32,54,62,35,42,41,50,63,56,43,99,35,120,91,32,54,62,35,42,41,50,63,56,43,99,35,120,91,32,54,62,35,42,41,50,63,56,43,99,35,120,91,32,54,62,35,42,41,50,63,56,43,99,35,120,91,32,54,62,35,42,41,50,63,56,43,99,35,120,91,32,54,62,35,42,41,50,63,56,43,99,35,120,91,32,54,62,35,42,41,50,63,56,43,99,35,120,91,32,54,62,35,42,41,50,63,56,43,99,35,120,91,32,54,62,35,42,41,50,63,56,43,99,35,120,91,32,54,62,35,42,41,50,63,56,43,99,35,120,91,32,54,62,35,42,41,50,63,56,43,99,35,120,91,32,54,62,35,42,41,50,63,56,43,99,35,120,91,32,54,62,35,42,41,50,63,56,43,99,35,120,91,32,54,62,35,42,41,50,63,56,43,99,35,120,91,32,54,62,35,42,41,50,63,56,43,99,35,120,91,32,54,62,35,42,41,50,63,56,43,99,35,120,91,32,54,62,35,42,41,50,63,56,43,99,35,120,91,32,54,62,35,42,41,50,63,56,43,99,35,120,91,32,54,62,35,42,41,50,63,56,43,99,35,120,91,32,54,62,35,42,41,50,63,56,43,99,35,120,91,32,54,62,35,42,41,50,63,56,43,99,35,120,91,32,54,62,35,42,41,50,63,56,43,99,35,120,91,32,54,62,35,42,41,50,63,56,43,99,35,120,91,32,54,62,35,42,41,50,63,56,43,99,35,120,91,32,54,62,35,42,41,50,63,56,43,99,35,120,91,32,54,62,35,42,41,50,63,56,43,99,35,120,91,32,54,62,35,42,41,50,63,56,43,99,35,120,91,32,54,62,35,42,41,50,63,56,43,99,35,120,91,32,54,62,35,42,41,50,63,56,43,99,35,120,91,32,54,62,35,42,41,50,63,56,43,99,35,120,91,32,54,62,35,42,41,50,63,56,43,99,35,120,91,32,54,62,35,42,41,50,63,56,43,99,35,120,91,32,54,62,35,42,41,50,63,56,43,99,35,120,91,32,54,62,35,42,41,50,63,56,43,99,35,120,91,32,54,62,35,42,41,50,63,56,43,99,35,120,91,32,54,62,35,42,41,50,63,56,43,99,35,120,91,32,54,62,35,42,41,50,63,56,43,99,35,120,91,32,54,62,35,42,41,50,63,56,43],\"xaxis\":\"x\",\"yaxis\":\"y\",\"type\":\"histogram\"}],                        {\"template\":{\"data\":{\"histogram2dcontour\":[{\"type\":\"histogram2dcontour\",\"colorbar\":{\"outlinewidth\":0,\"ticks\":\"\"},\"colorscale\":[[0.0,\"#0d0887\"],[0.1111111111111111,\"#46039f\"],[0.2222222222222222,\"#7201a8\"],[0.3333333333333333,\"#9c179e\"],[0.4444444444444444,\"#bd3786\"],[0.5555555555555556,\"#d8576b\"],[0.6666666666666666,\"#ed7953\"],[0.7777777777777778,\"#fb9f3a\"],[0.8888888888888888,\"#fdca26\"],[1.0,\"#f0f921\"]]}],\"choropleth\":[{\"type\":\"choropleth\",\"colorbar\":{\"outlinewidth\":0,\"ticks\":\"\"}}],\"histogram2d\":[{\"type\":\"histogram2d\",\"colorbar\":{\"outlinewidth\":0,\"ticks\":\"\"},\"colorscale\":[[0.0,\"#0d0887\"],[0.1111111111111111,\"#46039f\"],[0.2222222222222222,\"#7201a8\"],[0.3333333333333333,\"#9c179e\"],[0.4444444444444444,\"#bd3786\"],[0.5555555555555556,\"#d8576b\"],[0.6666666666666666,\"#ed7953\"],[0.7777777777777778,\"#fb9f3a\"],[0.8888888888888888,\"#fdca26\"],[1.0,\"#f0f921\"]]}],\"heatmap\":[{\"type\":\"heatmap\",\"colorbar\":{\"outlinewidth\":0,\"ticks\":\"\"},\"colorscale\":[[0.0,\"#0d0887\"],[0.1111111111111111,\"#46039f\"],[0.2222222222222222,\"#7201a8\"],[0.3333333333333333,\"#9c179e\"],[0.4444444444444444,\"#bd3786\"],[0.5555555555555556,\"#d8576b\"],[0.6666666666666666,\"#ed7953\"],[0.7777777777777778,\"#fb9f3a\"],[0.8888888888888888,\"#fdca26\"],[1.0,\"#f0f921\"]]}],\"heatmapgl\":[{\"type\":\"heatmapgl\",\"colorbar\":{\"outlinewidth\":0,\"ticks\":\"\"},\"colorscale\":[[0.0,\"#0d0887\"],[0.1111111111111111,\"#46039f\"],[0.2222222222222222,\"#7201a8\"],[0.3333333333333333,\"#9c179e\"],[0.4444444444444444,\"#bd3786\"],[0.5555555555555556,\"#d8576b\"],[0.6666666666666666,\"#ed7953\"],[0.7777777777777778,\"#fb9f3a\"],[0.8888888888888888,\"#fdca26\"],[1.0,\"#f0f921\"]]}],\"contourcarpet\":[{\"type\":\"contourcarpet\",\"colorbar\":{\"outlinewidth\":0,\"ticks\":\"\"}}],\"contour\":[{\"type\":\"contour\",\"colorbar\":{\"outlinewidth\":0,\"ticks\":\"\"},\"colorscale\":[[0.0,\"#0d0887\"],[0.1111111111111111,\"#46039f\"],[0.2222222222222222,\"#7201a8\"],[0.3333333333333333,\"#9c179e\"],[0.4444444444444444,\"#bd3786\"],[0.5555555555555556,\"#d8576b\"],[0.6666666666666666,\"#ed7953\"],[0.7777777777777778,\"#fb9f3a\"],[0.8888888888888888,\"#fdca26\"],[1.0,\"#f0f921\"]]}],\"surface\":[{\"type\":\"surface\",\"colorbar\":{\"outlinewidth\":0,\"ticks\":\"\"},\"colorscale\":[[0.0,\"#0d0887\"],[0.1111111111111111,\"#46039f\"],[0.2222222222222222,\"#7201a8\"],[0.3333333333333333,\"#9c179e\"],[0.4444444444444444,\"#bd3786\"],[0.5555555555555556,\"#d8576b\"],[0.6666666666666666,\"#ed7953\"],[0.7777777777777778,\"#fb9f3a\"],[0.8888888888888888,\"#fdca26\"],[1.0,\"#f0f921\"]]}],\"mesh3d\":[{\"type\":\"mesh3d\",\"colorbar\":{\"outlinewidth\":0,\"ticks\":\"\"}}],\"scatter\":[{\"fillpattern\":{\"fillmode\":\"overlay\",\"size\":10,\"solidity\":0.2},\"type\":\"scatter\"}],\"parcoords\":[{\"type\":\"parcoords\",\"line\":{\"colorbar\":{\"outlinewidth\":0,\"ticks\":\"\"}}}],\"scatterpolargl\":[{\"type\":\"scatterpolargl\",\"marker\":{\"colorbar\":{\"outlinewidth\":0,\"ticks\":\"\"}}}],\"bar\":[{\"error_x\":{\"color\":\"#2a3f5f\"},\"error_y\":{\"color\":\"#2a3f5f\"},\"marker\":{\"line\":{\"color\":\"#E5ECF6\",\"width\":0.5},\"pattern\":{\"fillmode\":\"overlay\",\"size\":10,\"solidity\":0.2}},\"type\":\"bar\"}],\"scattergeo\":[{\"type\":\"scattergeo\",\"marker\":{\"colorbar\":{\"outlinewidth\":0,\"ticks\":\"\"}}}],\"scatterpolar\":[{\"type\":\"scatterpolar\",\"marker\":{\"colorbar\":{\"outlinewidth\":0,\"ticks\":\"\"}}}],\"histogram\":[{\"marker\":{\"pattern\":{\"fillmode\":\"overlay\",\"size\":10,\"solidity\":0.2}},\"type\":\"histogram\"}],\"scattergl\":[{\"type\":\"scattergl\",\"marker\":{\"colorbar\":{\"outlinewidth\":0,\"ticks\":\"\"}}}],\"scatter3d\":[{\"type\":\"scatter3d\",\"line\":{\"colorbar\":{\"outlinewidth\":0,\"ticks\":\"\"}},\"marker\":{\"colorbar\":{\"outlinewidth\":0,\"ticks\":\"\"}}}],\"scattermapbox\":[{\"type\":\"scattermapbox\",\"marker\":{\"colorbar\":{\"outlinewidth\":0,\"ticks\":\"\"}}}],\"scatterternary\":[{\"type\":\"scatterternary\",\"marker\":{\"colorbar\":{\"outlinewidth\":0,\"ticks\":\"\"}}}],\"scattercarpet\":[{\"type\":\"scattercarpet\",\"marker\":{\"colorbar\":{\"outlinewidth\":0,\"ticks\":\"\"}}}],\"carpet\":[{\"aaxis\":{\"endlinecolor\":\"#2a3f5f\",\"gridcolor\":\"white\",\"linecolor\":\"white\",\"minorgridcolor\":\"white\",\"startlinecolor\":\"#2a3f5f\"},\"baxis\":{\"endlinecolor\":\"#2a3f5f\",\"gridcolor\":\"white\",\"linecolor\":\"white\",\"minorgridcolor\":\"white\",\"startlinecolor\":\"#2a3f5f\"},\"type\":\"carpet\"}],\"table\":[{\"cells\":{\"fill\":{\"color\":\"#EBF0F8\"},\"line\":{\"color\":\"white\"}},\"header\":{\"fill\":{\"color\":\"#C8D4E3\"},\"line\":{\"color\":\"white\"}},\"type\":\"table\"}],\"barpolar\":[{\"marker\":{\"line\":{\"color\":\"#E5ECF6\",\"width\":0.5},\"pattern\":{\"fillmode\":\"overlay\",\"size\":10,\"solidity\":0.2}},\"type\":\"barpolar\"}],\"pie\":[{\"automargin\":true,\"type\":\"pie\"}]},\"layout\":{\"autotypenumbers\":\"strict\",\"colorway\":[\"#636efa\",\"#EF553B\",\"#00cc96\",\"#ab63fa\",\"#FFA15A\",\"#19d3f3\",\"#FF6692\",\"#B6E880\",\"#FF97FF\",\"#FECB52\"],\"font\":{\"color\":\"#2a3f5f\"},\"hovermode\":\"closest\",\"hoverlabel\":{\"align\":\"left\"},\"paper_bgcolor\":\"white\",\"plot_bgcolor\":\"#E5ECF6\",\"polar\":{\"bgcolor\":\"#E5ECF6\",\"angularaxis\":{\"gridcolor\":\"white\",\"linecolor\":\"white\",\"ticks\":\"\"},\"radialaxis\":{\"gridcolor\":\"white\",\"linecolor\":\"white\",\"ticks\":\"\"}},\"ternary\":{\"bgcolor\":\"#E5ECF6\",\"aaxis\":{\"gridcolor\":\"white\",\"linecolor\":\"white\",\"ticks\":\"\"},\"baxis\":{\"gridcolor\":\"white\",\"linecolor\":\"white\",\"ticks\":\"\"},\"caxis\":{\"gridcolor\":\"white\",\"linecolor\":\"white\",\"ticks\":\"\"}},\"coloraxis\":{\"colorbar\":{\"outlinewidth\":0,\"ticks\":\"\"}},\"colorscale\":{\"sequential\":[[0.0,\"#0d0887\"],[0.1111111111111111,\"#46039f\"],[0.2222222222222222,\"#7201a8\"],[0.3333333333333333,\"#9c179e\"],[0.4444444444444444,\"#bd3786\"],[0.5555555555555556,\"#d8576b\"],[0.6666666666666666,\"#ed7953\"],[0.7777777777777778,\"#fb9f3a\"],[0.8888888888888888,\"#fdca26\"],[1.0,\"#f0f921\"]],\"sequentialminus\":[[0.0,\"#0d0887\"],[0.1111111111111111,\"#46039f\"],[0.2222222222222222,\"#7201a8\"],[0.3333333333333333,\"#9c179e\"],[0.4444444444444444,\"#bd3786\"],[0.5555555555555556,\"#d8576b\"],[0.6666666666666666,\"#ed7953\"],[0.7777777777777778,\"#fb9f3a\"],[0.8888888888888888,\"#fdca26\"],[1.0,\"#f0f921\"]],\"diverging\":[[0,\"#8e0152\"],[0.1,\"#c51b7d\"],[0.2,\"#de77ae\"],[0.3,\"#f1b6da\"],[0.4,\"#fde0ef\"],[0.5,\"#f7f7f7\"],[0.6,\"#e6f5d0\"],[0.7,\"#b8e186\"],[0.8,\"#7fbc41\"],[0.9,\"#4d9221\"],[1,\"#276419\"]]},\"xaxis\":{\"gridcolor\":\"white\",\"linecolor\":\"white\",\"ticks\":\"\",\"title\":{\"standoff\":15},\"zerolinecolor\":\"white\",\"automargin\":true,\"zerolinewidth\":2},\"yaxis\":{\"gridcolor\":\"white\",\"linecolor\":\"white\",\"ticks\":\"\",\"title\":{\"standoff\":15},\"zerolinecolor\":\"white\",\"automargin\":true,\"zerolinewidth\":2},\"scene\":{\"xaxis\":{\"backgroundcolor\":\"#E5ECF6\",\"gridcolor\":\"white\",\"linecolor\":\"white\",\"showbackground\":true,\"ticks\":\"\",\"zerolinecolor\":\"white\",\"gridwidth\":2},\"yaxis\":{\"backgroundcolor\":\"#E5ECF6\",\"gridcolor\":\"white\",\"linecolor\":\"white\",\"showbackground\":true,\"ticks\":\"\",\"zerolinecolor\":\"white\",\"gridwidth\":2},\"zaxis\":{\"backgroundcolor\":\"#E5ECF6\",\"gridcolor\":\"white\",\"linecolor\":\"white\",\"showbackground\":true,\"ticks\":\"\",\"zerolinecolor\":\"white\",\"gridwidth\":2}},\"shapedefaults\":{\"line\":{\"color\":\"#2a3f5f\"}},\"annotationdefaults\":{\"arrowcolor\":\"#2a3f5f\",\"arrowhead\":0,\"arrowwidth\":1},\"geo\":{\"bgcolor\":\"white\",\"landcolor\":\"#E5ECF6\",\"subunitcolor\":\"white\",\"showland\":true,\"showlakes\":true,\"lakecolor\":\"white\"},\"title\":{\"x\":0.05},\"mapbox\":{\"style\":\"light\"}}},\"xaxis\":{\"anchor\":\"y\",\"domain\":[0.0,1.0],\"title\":{\"text\":\"x\"}},\"yaxis\":{\"anchor\":\"x\",\"domain\":[0.0,1.0],\"title\":{\"text\":\"count\"},\"type\":\"log\"},\"legend\":{\"tracegroupgap\":0},\"margin\":{\"t\":60},\"barmode\":\"relative\"},                        {\"responsive\": true}                    ).then(function(){\n",
       "                            \n",
       "var gd = document.getElementById('8bb80b6a-5240-4bb7-927b-0655257c0a22');\n",
       "var x = new MutationObserver(function (mutations, observer) {{\n",
       "        var display = window.getComputedStyle(gd).display;\n",
       "        if (!display || display === 'none') {{\n",
       "            console.log([gd, 'removed!']);\n",
       "            Plotly.purge(gd);\n",
       "            observer.disconnect();\n",
       "        }}\n",
       "}});\n",
       "\n",
       "// Listen for the removal of the full notebook cells\n",
       "var notebookContainer = gd.closest('#notebook-container');\n",
       "if (notebookContainer) {{\n",
       "    x.observe(notebookContainer, {childList: true});\n",
       "}}\n",
       "\n",
       "// Listen for the clearing of the current output cell\n",
       "var outputEl = gd.closest('.output');\n",
       "if (outputEl) {{\n",
       "    x.observe(outputEl, {childList: true});\n",
       "}}\n",
       "\n",
       "                        })                };                });            </script>        </div>"
      ]
     },
     "metadata": {},
     "output_type": "display_data"
    }
   ],
   "source": [
    "express.histogram(x=df['Quote'].str.len(), log_y=True)"
   ]
  },
  {
   "cell_type": "markdown",
   "id": "1e37de3b",
   "metadata": {
    "papermill": {
     "duration": 0.011815,
     "end_time": "2024-04-10T08:17:28.821964",
     "exception": false,
     "start_time": "2024-04-10T08:17:28.810149",
     "status": "completed"
    },
    "tags": []
   },
   "source": [
    "# EDA"
   ]
  },
  {
   "cell_type": "code",
   "execution_count": 9,
   "id": "c330923b",
   "metadata": {
    "execution": {
     "iopub.execute_input": "2024-04-10T08:17:28.847327Z",
     "iopub.status.busy": "2024-04-10T08:17:28.846898Z",
     "iopub.status.idle": "2024-04-10T08:17:28.853874Z",
     "shell.execute_reply": "2024-04-10T08:17:28.852849Z"
    },
    "papermill": {
     "duration": 0.022072,
     "end_time": "2024-04-10T08:17:28.856135",
     "exception": false,
     "start_time": "2024-04-10T08:17:28.834063",
     "status": "completed"
    },
    "tags": []
   },
   "outputs": [
    {
     "data": {
      "text/plain": [
       "Index(['Number', 'Quote', 'Author'], dtype='object')"
      ]
     },
     "execution_count": 9,
     "metadata": {},
     "output_type": "execute_result"
    }
   ],
   "source": [
    "df.columns"
   ]
  },
  {
   "cell_type": "code",
   "execution_count": 10,
   "id": "1517664f",
   "metadata": {
    "execution": {
     "iopub.execute_input": "2024-04-10T08:17:28.881932Z",
     "iopub.status.busy": "2024-04-10T08:17:28.881538Z",
     "iopub.status.idle": "2024-04-10T08:17:28.886066Z",
     "shell.execute_reply": "2024-04-10T08:17:28.885034Z"
    },
    "papermill": {
     "duration": 0.020194,
     "end_time": "2024-04-10T08:17:28.888448",
     "exception": false,
     "start_time": "2024-04-10T08:17:28.868254",
     "status": "completed"
    },
    "tags": []
   },
   "outputs": [],
   "source": [
    "del df['Number']"
   ]
  },
  {
   "cell_type": "code",
   "execution_count": 11,
   "id": "ae60e6a6",
   "metadata": {
    "execution": {
     "iopub.execute_input": "2024-04-10T08:17:28.913666Z",
     "iopub.status.busy": "2024-04-10T08:17:28.913242Z",
     "iopub.status.idle": "2024-04-10T08:17:28.920280Z",
     "shell.execute_reply": "2024-04-10T08:17:28.918992Z"
    },
    "papermill": {
     "duration": 0.022521,
     "end_time": "2024-04-10T08:17:28.922663",
     "exception": false,
     "start_time": "2024-04-10T08:17:28.900142",
     "status": "completed"
    },
    "tags": []
   },
   "outputs": [
    {
     "data": {
      "text/plain": [
       "Index(['Quote', 'Author'], dtype='object')"
      ]
     },
     "execution_count": 11,
     "metadata": {},
     "output_type": "execute_result"
    }
   ],
   "source": [
    "df.columns"
   ]
  },
  {
   "cell_type": "code",
   "execution_count": 12,
   "id": "5ae561f3",
   "metadata": {
    "execution": {
     "iopub.execute_input": "2024-04-10T08:17:28.948038Z",
     "iopub.status.busy": "2024-04-10T08:17:28.947506Z",
     "iopub.status.idle": "2024-04-10T08:17:28.952529Z",
     "shell.execute_reply": "2024-04-10T08:17:28.951533Z"
    },
    "papermill": {
     "duration": 0.020175,
     "end_time": "2024-04-10T08:17:28.954573",
     "exception": false,
     "start_time": "2024-04-10T08:17:28.934398",
     "status": "completed"
    },
    "tags": []
   },
   "outputs": [],
   "source": [
    "# df['Author'].value_counts()"
   ]
  },
  {
   "cell_type": "code",
   "execution_count": 13,
   "id": "38903b15",
   "metadata": {
    "execution": {
     "iopub.execute_input": "2024-04-10T08:17:28.981070Z",
     "iopub.status.busy": "2024-04-10T08:17:28.980686Z",
     "iopub.status.idle": "2024-04-10T08:17:28.989988Z",
     "shell.execute_reply": "2024-04-10T08:17:28.988708Z"
    },
    "papermill": {
     "duration": 0.02538,
     "end_time": "2024-04-10T08:17:28.992258",
     "exception": false,
     "start_time": "2024-04-10T08:17:28.966878",
     "status": "completed"
    },
    "tags": []
   },
   "outputs": [
    {
     "data": {
      "text/plain": [
       "Quote     0\n",
       "Author    0\n",
       "dtype: int64"
      ]
     },
     "execution_count": 13,
     "metadata": {},
     "output_type": "execute_result"
    }
   ],
   "source": [
    "df.isnull().sum()"
   ]
  },
  {
   "cell_type": "code",
   "execution_count": 14,
   "id": "609b3353",
   "metadata": {
    "execution": {
     "iopub.execute_input": "2024-04-10T08:17:29.018768Z",
     "iopub.status.busy": "2024-04-10T08:17:29.018343Z",
     "iopub.status.idle": "2024-04-10T08:17:29.026557Z",
     "shell.execute_reply": "2024-04-10T08:17:29.025416Z"
    },
    "papermill": {
     "duration": 0.023884,
     "end_time": "2024-04-10T08:17:29.028773",
     "exception": false,
     "start_time": "2024-04-10T08:17:29.004889",
     "status": "completed"
    },
    "tags": []
   },
   "outputs": [
    {
     "data": {
      "text/plain": [
       "125"
      ]
     },
     "execution_count": 14,
     "metadata": {},
     "output_type": "execute_result"
    }
   ],
   "source": [
    "max_len = max(df['Quote'].str.len())\n",
    "max_len"
   ]
  },
  {
   "cell_type": "code",
   "execution_count": 15,
   "id": "164aaf1c",
   "metadata": {
    "execution": {
     "iopub.execute_input": "2024-04-10T08:17:29.054993Z",
     "iopub.status.busy": "2024-04-10T08:17:29.054617Z",
     "iopub.status.idle": "2024-04-10T08:17:29.059477Z",
     "shell.execute_reply": "2024-04-10T08:17:29.058223Z"
    },
    "papermill": {
     "duration": 0.020488,
     "end_time": "2024-04-10T08:17:29.061608",
     "exception": false,
     "start_time": "2024-04-10T08:17:29.041120",
     "status": "completed"
    },
    "tags": []
   },
   "outputs": [],
   "source": [
    "quotes = df['Quote']"
   ]
  },
  {
   "cell_type": "code",
   "execution_count": 16,
   "id": "d59db4a5",
   "metadata": {
    "execution": {
     "iopub.execute_input": "2024-04-10T08:17:29.088791Z",
     "iopub.status.busy": "2024-04-10T08:17:29.087540Z",
     "iopub.status.idle": "2024-04-10T08:17:29.095796Z",
     "shell.execute_reply": "2024-04-10T08:17:29.094451Z"
    },
    "papermill": {
     "duration": 0.024231,
     "end_time": "2024-04-10T08:17:29.098397",
     "exception": false,
     "start_time": "2024-04-10T08:17:29.074166",
     "status": "completed"
    },
    "tags": []
   },
   "outputs": [
    {
     "data": {
      "text/plain": [
       "0       The only thing we have to fear is fear itself.\n",
       "1                         The truth will set you free.\n",
       "2    To be yourself in a world that is constantly t...\n",
       "3    Success is not final, failure is not fatal: It...\n",
       "Name: Quote, dtype: object"
      ]
     },
     "execution_count": 16,
     "metadata": {},
     "output_type": "execute_result"
    }
   ],
   "source": [
    "quotes[:4]"
   ]
  },
  {
   "cell_type": "markdown",
   "id": "98ae1c82",
   "metadata": {
    "papermill": {
     "duration": 0.011966,
     "end_time": "2024-04-10T08:17:29.122511",
     "exception": false,
     "start_time": "2024-04-10T08:17:29.110545",
     "status": "completed"
    },
    "tags": []
   },
   "source": [
    "# Preprocessing"
   ]
  },
  {
   "cell_type": "code",
   "execution_count": 17,
   "id": "71aa21e3",
   "metadata": {
    "execution": {
     "iopub.execute_input": "2024-04-10T08:17:29.149196Z",
     "iopub.status.busy": "2024-04-10T08:17:29.148824Z",
     "iopub.status.idle": "2024-04-10T08:17:43.178499Z",
     "shell.execute_reply": "2024-04-10T08:17:43.177462Z"
    },
    "papermill": {
     "duration": 14.045928,
     "end_time": "2024-04-10T08:17:43.181078",
     "exception": false,
     "start_time": "2024-04-10T08:17:29.135150",
     "status": "completed"
    },
    "tags": []
   },
   "outputs": [
    {
     "name": "stderr",
     "output_type": "stream",
     "text": [
      "2024-04-10 08:17:31.411999: E external/local_xla/xla/stream_executor/cuda/cuda_dnn.cc:9261] Unable to register cuDNN factory: Attempting to register factory for plugin cuDNN when one has already been registered\n",
      "2024-04-10 08:17:31.412133: E external/local_xla/xla/stream_executor/cuda/cuda_fft.cc:607] Unable to register cuFFT factory: Attempting to register factory for plugin cuFFT when one has already been registered\n",
      "2024-04-10 08:17:31.578066: E external/local_xla/xla/stream_executor/cuda/cuda_blas.cc:1515] Unable to register cuBLAS factory: Attempting to register factory for plugin cuBLAS when one has already been registered\n"
     ]
    }
   ],
   "source": [
    "from tensorflow.keras.preprocessing.text import Tokenizer\n",
    "from tensorflow.keras.preprocessing.sequence import pad_sequences"
   ]
  },
  {
   "cell_type": "code",
   "execution_count": 18,
   "id": "4314ddf3",
   "metadata": {
    "execution": {
     "iopub.execute_input": "2024-04-10T08:17:43.267271Z",
     "iopub.status.busy": "2024-04-10T08:17:43.266576Z",
     "iopub.status.idle": "2024-04-10T08:17:43.271673Z",
     "shell.execute_reply": "2024-04-10T08:17:43.270506Z"
    },
    "papermill": {
     "duration": 0.079998,
     "end_time": "2024-04-10T08:17:43.273957",
     "exception": false,
     "start_time": "2024-04-10T08:17:43.193959",
     "status": "completed"
    },
    "tags": []
   },
   "outputs": [],
   "source": [
    "tokenizer = Tokenizer()"
   ]
  },
  {
   "cell_type": "code",
   "execution_count": 19,
   "id": "f62f9801",
   "metadata": {
    "execution": {
     "iopub.execute_input": "2024-04-10T08:17:43.299984Z",
     "iopub.status.busy": "2024-04-10T08:17:43.299622Z",
     "iopub.status.idle": "2024-04-10T08:17:43.319497Z",
     "shell.execute_reply": "2024-04-10T08:17:43.318549Z"
    },
    "papermill": {
     "duration": 0.035662,
     "end_time": "2024-04-10T08:17:43.321847",
     "exception": false,
     "start_time": "2024-04-10T08:17:43.286185",
     "status": "completed"
    },
    "tags": []
   },
   "outputs": [],
   "source": [
    "tokenizer.fit_on_texts(quotes)"
   ]
  },
  {
   "cell_type": "code",
   "execution_count": 20,
   "id": "93096c0c",
   "metadata": {
    "execution": {
     "iopub.execute_input": "2024-04-10T08:17:43.349124Z",
     "iopub.status.busy": "2024-04-10T08:17:43.348482Z",
     "iopub.status.idle": "2024-04-10T08:17:43.355171Z",
     "shell.execute_reply": "2024-04-10T08:17:43.354141Z"
    },
    "papermill": {
     "duration": 0.022644,
     "end_time": "2024-04-10T08:17:43.357263",
     "exception": false,
     "start_time": "2024-04-10T08:17:43.334619",
     "status": "completed"
    },
    "tags": []
   },
   "outputs": [
    {
     "data": {
      "text/plain": [
       "249"
      ]
     },
     "execution_count": 20,
     "metadata": {},
     "output_type": "execute_result"
    }
   ],
   "source": [
    "voc = tokenizer.word_index\n",
    "voc_len = len(tokenizer.word_index)\n",
    "voc_len"
   ]
  },
  {
   "cell_type": "code",
   "execution_count": 21,
   "id": "ce0a45e9",
   "metadata": {
    "execution": {
     "iopub.execute_input": "2024-04-10T08:17:43.384612Z",
     "iopub.status.busy": "2024-04-10T08:17:43.384180Z",
     "iopub.status.idle": "2024-04-10T08:17:43.403744Z",
     "shell.execute_reply": "2024-04-10T08:17:43.402463Z"
    },
    "papermill": {
     "duration": 0.036581,
     "end_time": "2024-04-10T08:17:43.406291",
     "exception": false,
     "start_time": "2024-04-10T08:17:43.369710",
     "status": "completed"
    },
    "tags": []
   },
   "outputs": [
    {
     "data": {
      "text/plain": [
       "[[2, 23, 46, 22, 10, 3, 115, 8, 115, 116],\n",
       " [2, 144, 106, 145, 1, 146],\n",
       " [3, 9, 26, 104, 6, 105, 20, 8, 117, 118, 3, 119, 1, 107, 27, 8, 2, 120, 121],\n",
       " [25, 8, 14, 147, 148, 8, 14, 149, 4, 8, 2, 150, 3, 151, 20, 152]]"
      ]
     },
     "execution_count": 21,
     "metadata": {},
     "output_type": "execute_result"
    }
   ],
   "source": [
    "tokized_sequnece = tokenizer.texts_to_sequences(quotes)\n",
    "tokized_sequnece[:4]"
   ]
  },
  {
   "cell_type": "code",
   "execution_count": 22,
   "id": "dce88500",
   "metadata": {
    "execution": {
     "iopub.execute_input": "2024-04-10T08:17:43.433120Z",
     "iopub.status.busy": "2024-04-10T08:17:43.432696Z",
     "iopub.status.idle": "2024-04-10T08:17:43.455793Z",
     "shell.execute_reply": "2024-04-10T08:17:43.454479Z"
    },
    "papermill": {
     "duration": 0.039398,
     "end_time": "2024-04-10T08:17:43.458211",
     "exception": false,
     "start_time": "2024-04-10T08:17:43.418813",
     "status": "completed"
    },
    "tags": []
   },
   "outputs": [],
   "source": [
    "input_seq = []\n",
    "\n",
    "for sentence in quotes.str.split('\\n'):\n",
    "#     print(sentence)\n",
    "    tokenized_sen = tokenizer.texts_to_sequences(sentence)[0]\n",
    "#     print(tokenized_sen)\n",
    "    for i in range(1,len(tokenized_sen)):\n",
    "        input_seq.append(tokenized_sen[:i+1])\n",
    "    "
   ]
  },
  {
   "cell_type": "code",
   "execution_count": 23,
   "id": "7b1c1b27",
   "metadata": {
    "execution": {
     "iopub.execute_input": "2024-04-10T08:17:43.486076Z",
     "iopub.status.busy": "2024-04-10T08:17:43.485664Z",
     "iopub.status.idle": "2024-04-10T08:17:43.492474Z",
     "shell.execute_reply": "2024-04-10T08:17:43.491365Z"
    },
    "papermill": {
     "duration": 0.023091,
     "end_time": "2024-04-10T08:17:43.494600",
     "exception": false,
     "start_time": "2024-04-10T08:17:43.471509",
     "status": "completed"
    },
    "tags": []
   },
   "outputs": [
    {
     "data": {
      "text/plain": [
       "7707"
      ]
     },
     "execution_count": 23,
     "metadata": {},
     "output_type": "execute_result"
    }
   ],
   "source": [
    "len(input_seq)"
   ]
  },
  {
   "cell_type": "code",
   "execution_count": 24,
   "id": "b1b089fd",
   "metadata": {
    "execution": {
     "iopub.execute_input": "2024-04-10T08:17:43.522088Z",
     "iopub.status.busy": "2024-04-10T08:17:43.521018Z",
     "iopub.status.idle": "2024-04-10T08:17:43.529286Z",
     "shell.execute_reply": "2024-04-10T08:17:43.528330Z"
    },
    "papermill": {
     "duration": 0.024118,
     "end_time": "2024-04-10T08:17:43.531310",
     "exception": false,
     "start_time": "2024-04-10T08:17:43.507192",
     "status": "completed"
    },
    "tags": []
   },
   "outputs": [
    {
     "data": {
      "text/plain": [
       "24"
      ]
     },
     "execution_count": 24,
     "metadata": {},
     "output_type": "execute_result"
    }
   ],
   "source": [
    "max_len = max([len(x) for x in input_seq])\n",
    "max_len"
   ]
  },
  {
   "cell_type": "code",
   "execution_count": 25,
   "id": "721d3b73",
   "metadata": {
    "execution": {
     "iopub.execute_input": "2024-04-10T08:17:43.559569Z",
     "iopub.status.busy": "2024-04-10T08:17:43.558455Z",
     "iopub.status.idle": "2024-04-10T08:17:43.583645Z",
     "shell.execute_reply": "2024-04-10T08:17:43.582494Z"
    },
    "papermill": {
     "duration": 0.042378,
     "end_time": "2024-04-10T08:17:43.586568",
     "exception": false,
     "start_time": "2024-04-10T08:17:43.544190",
     "status": "completed"
    },
    "tags": []
   },
   "outputs": [],
   "source": [
    "x_padded = pad_sequences(input_seq,maxlen=max_len,padding='pre')"
   ]
  },
  {
   "cell_type": "code",
   "execution_count": 26,
   "id": "0b77cba8",
   "metadata": {
    "execution": {
     "iopub.execute_input": "2024-04-10T08:17:43.615518Z",
     "iopub.status.busy": "2024-04-10T08:17:43.614729Z",
     "iopub.status.idle": "2024-04-10T08:17:43.622229Z",
     "shell.execute_reply": "2024-04-10T08:17:43.621180Z"
    },
    "papermill": {
     "duration": 0.024647,
     "end_time": "2024-04-10T08:17:43.624523",
     "exception": false,
     "start_time": "2024-04-10T08:17:43.599876",
     "status": "completed"
    },
    "tags": []
   },
   "outputs": [
    {
     "data": {
      "text/plain": [
       "array([[ 0,  0,  0, ...,  0,  2, 23],\n",
       "       [ 0,  0,  0, ...,  2, 23, 46],\n",
       "       [ 0,  0,  0, ..., 23, 46, 22],\n",
       "       ...,\n",
       "       [ 0,  0,  0, ..., 67, 45, 40],\n",
       "       [ 0,  0,  0, ..., 45, 40, 38],\n",
       "       [ 0,  0,  0, ..., 40, 38, 68]], dtype=int32)"
      ]
     },
     "execution_count": 26,
     "metadata": {},
     "output_type": "execute_result"
    }
   ],
   "source": [
    "x_padded"
   ]
  },
  {
   "cell_type": "code",
   "execution_count": 27,
   "id": "229b0b85",
   "metadata": {
    "execution": {
     "iopub.execute_input": "2024-04-10T08:17:43.652595Z",
     "iopub.status.busy": "2024-04-10T08:17:43.651806Z",
     "iopub.status.idle": "2024-04-10T08:17:43.657219Z",
     "shell.execute_reply": "2024-04-10T08:17:43.656142Z"
    },
    "papermill": {
     "duration": 0.022363,
     "end_time": "2024-04-10T08:17:43.659894",
     "exception": false,
     "start_time": "2024-04-10T08:17:43.637531",
     "status": "completed"
    },
    "tags": []
   },
   "outputs": [],
   "source": [
    "x = x_padded[:,:-1]\n",
    "y = x_padded[:,-1]"
   ]
  },
  {
   "cell_type": "code",
   "execution_count": 28,
   "id": "3d434e0a",
   "metadata": {
    "execution": {
     "iopub.execute_input": "2024-04-10T08:17:43.688467Z",
     "iopub.status.busy": "2024-04-10T08:17:43.687670Z",
     "iopub.status.idle": "2024-04-10T08:17:43.694963Z",
     "shell.execute_reply": "2024-04-10T08:17:43.693812Z"
    },
    "papermill": {
     "duration": 0.024329,
     "end_time": "2024-04-10T08:17:43.697110",
     "exception": false,
     "start_time": "2024-04-10T08:17:43.672781",
     "status": "completed"
    },
    "tags": []
   },
   "outputs": [
    {
     "data": {
      "text/plain": [
       "((7707, 23), (7707,))"
      ]
     },
     "execution_count": 28,
     "metadata": {},
     "output_type": "execute_result"
    }
   ],
   "source": [
    "x.shape,y.shape"
   ]
  },
  {
   "cell_type": "code",
   "execution_count": 29,
   "id": "648689d2",
   "metadata": {
    "execution": {
     "iopub.execute_input": "2024-04-10T08:17:43.725578Z",
     "iopub.status.busy": "2024-04-10T08:17:43.724473Z",
     "iopub.status.idle": "2024-04-10T08:17:43.731523Z",
     "shell.execute_reply": "2024-04-10T08:17:43.730650Z"
    },
    "papermill": {
     "duration": 0.023742,
     "end_time": "2024-04-10T08:17:43.733846",
     "exception": false,
     "start_time": "2024-04-10T08:17:43.710104",
     "status": "completed"
    },
    "tags": []
   },
   "outputs": [],
   "source": [
    "from tensorflow.keras.utils import to_categorical"
   ]
  },
  {
   "cell_type": "code",
   "execution_count": 30,
   "id": "16743762",
   "metadata": {
    "execution": {
     "iopub.execute_input": "2024-04-10T08:17:43.761677Z",
     "iopub.status.busy": "2024-04-10T08:17:43.761274Z",
     "iopub.status.idle": "2024-04-10T08:17:43.781655Z",
     "shell.execute_reply": "2024-04-10T08:17:43.780522Z"
    },
    "papermill": {
     "duration": 0.037147,
     "end_time": "2024-04-10T08:17:43.783972",
     "exception": false,
     "start_time": "2024-04-10T08:17:43.746825",
     "status": "completed"
    },
    "tags": []
   },
   "outputs": [
    {
     "data": {
      "text/plain": [
       "(7707, 250)"
      ]
     },
     "execution_count": 30,
     "metadata": {},
     "output_type": "execute_result"
    }
   ],
   "source": [
    "y = to_categorical(y,num_classes=voc_len+1)\n",
    "y.shape"
   ]
  },
  {
   "cell_type": "markdown",
   "id": "0168dbfe",
   "metadata": {
    "papermill": {
     "duration": 0.012948,
     "end_time": "2024-04-10T08:17:43.810195",
     "exception": false,
     "start_time": "2024-04-10T08:17:43.797247",
     "status": "completed"
    },
    "tags": []
   },
   "source": [
    "# Model"
   ]
  },
  {
   "cell_type": "code",
   "execution_count": 31,
   "id": "cf8f6cd2",
   "metadata": {
    "execution": {
     "iopub.execute_input": "2024-04-10T08:17:43.838594Z",
     "iopub.status.busy": "2024-04-10T08:17:43.837810Z",
     "iopub.status.idle": "2024-04-10T08:17:43.846010Z",
     "shell.execute_reply": "2024-04-10T08:17:43.845184Z"
    },
    "papermill": {
     "duration": 0.025292,
     "end_time": "2024-04-10T08:17:43.848504",
     "exception": false,
     "start_time": "2024-04-10T08:17:43.823212",
     "status": "completed"
    },
    "tags": []
   },
   "outputs": [],
   "source": [
    "from tensorflow.keras.models import Sequential\n",
    "from tensorflow.keras.layers import Dense, Embedding, LSTM"
   ]
  },
  {
   "cell_type": "code",
   "execution_count": 32,
   "id": "04f0aa7d",
   "metadata": {
    "execution": {
     "iopub.execute_input": "2024-04-10T08:17:43.878577Z",
     "iopub.status.busy": "2024-04-10T08:17:43.877780Z",
     "iopub.status.idle": "2024-04-10T08:17:43.884481Z",
     "shell.execute_reply": "2024-04-10T08:17:43.883365Z"
    },
    "papermill": {
     "duration": 0.024309,
     "end_time": "2024-04-10T08:17:43.886759",
     "exception": false,
     "start_time": "2024-04-10T08:17:43.862450",
     "status": "completed"
    },
    "tags": []
   },
   "outputs": [
    {
     "data": {
      "text/plain": [
       "249"
      ]
     },
     "execution_count": 32,
     "metadata": {},
     "output_type": "execute_result"
    }
   ],
   "source": [
    "voc_len"
   ]
  },
  {
   "cell_type": "code",
   "execution_count": 33,
   "id": "c5b41a0d",
   "metadata": {
    "execution": {
     "iopub.execute_input": "2024-04-10T08:17:43.915646Z",
     "iopub.status.busy": "2024-04-10T08:17:43.914810Z",
     "iopub.status.idle": "2024-04-10T08:17:44.102609Z",
     "shell.execute_reply": "2024-04-10T08:17:44.101472Z"
    },
    "papermill": {
     "duration": 0.205637,
     "end_time": "2024-04-10T08:17:44.105540",
     "exception": false,
     "start_time": "2024-04-10T08:17:43.899903",
     "status": "completed"
    },
    "tags": []
   },
   "outputs": [
    {
     "name": "stderr",
     "output_type": "stream",
     "text": [
      "/opt/conda/lib/python3.10/site-packages/keras/src/layers/core/embedding.py:81: UserWarning:\n",
      "\n",
      "Do not pass an `input_shape`/`input_dim` argument to a layer. When using Sequential models, prefer using an `Input(shape)` object as the first layer in the model instead.\n",
      "\n"
     ]
    }
   ],
   "source": [
    "model = Sequential()\n",
    "model.add(Embedding(input_dim=250,output_dim=100,input_shape=(23,)))\n",
    "model.add(LSTM(150,return_sequences=True))\n",
    "model.add(LSTM(128,return_sequences=True))\n",
    "model.add(LSTM(128))\n",
    "# model.add(BatchNormalization())\n",
    "model.add(Dense(250,activation='softmax'))"
   ]
  },
  {
   "cell_type": "code",
   "execution_count": 34,
   "id": "151db905",
   "metadata": {
    "execution": {
     "iopub.execute_input": "2024-04-10T08:17:44.136538Z",
     "iopub.status.busy": "2024-04-10T08:17:44.135354Z",
     "iopub.status.idle": "2024-04-10T08:17:44.153636Z",
     "shell.execute_reply": "2024-04-10T08:17:44.152181Z"
    },
    "papermill": {
     "duration": 0.036353,
     "end_time": "2024-04-10T08:17:44.156132",
     "exception": false,
     "start_time": "2024-04-10T08:17:44.119779",
     "status": "completed"
    },
    "tags": []
   },
   "outputs": [],
   "source": [
    "model.compile(loss = 'categorical_crossentropy',optimizer='adam',metrics=['accuracy'])"
   ]
  },
  {
   "cell_type": "code",
   "execution_count": 35,
   "id": "6e66af1e",
   "metadata": {
    "execution": {
     "iopub.execute_input": "2024-04-10T08:17:44.185357Z",
     "iopub.status.busy": "2024-04-10T08:17:44.184068Z",
     "iopub.status.idle": "2024-04-10T08:17:44.206274Z",
     "shell.execute_reply": "2024-04-10T08:17:44.205212Z"
    },
    "papermill": {
     "duration": 0.039323,
     "end_time": "2024-04-10T08:17:44.208713",
     "exception": false,
     "start_time": "2024-04-10T08:17:44.169390",
     "status": "completed"
    },
    "tags": []
   },
   "outputs": [
    {
     "data": {
      "text/html": [
       "<pre style=\"white-space:pre;overflow-x:auto;line-height:normal;font-family:Menlo,'DejaVu Sans Mono',consolas,'Courier New',monospace\"><span style=\"font-weight: bold\">Model: \"sequential\"</span>\n",
       "</pre>\n"
      ],
      "text/plain": [
       "\u001b[1mModel: \"sequential\"\u001b[0m\n"
      ]
     },
     "metadata": {},
     "output_type": "display_data"
    },
    {
     "data": {
      "text/html": [
       "<pre style=\"white-space:pre;overflow-x:auto;line-height:normal;font-family:Menlo,'DejaVu Sans Mono',consolas,'Courier New',monospace\">┏━━━━━━━━━━━━━━━━━━━━━━━━━━━━━━━━━┳━━━━━━━━━━━━━━━━━━━━━━━━┳━━━━━━━━━━━━━━━┓\n",
       "┃<span style=\"font-weight: bold\"> Layer (type)                    </span>┃<span style=\"font-weight: bold\"> Output Shape           </span>┃<span style=\"font-weight: bold\">       Param # </span>┃\n",
       "┡━━━━━━━━━━━━━━━━━━━━━━━━━━━━━━━━━╇━━━━━━━━━━━━━━━━━━━━━━━━╇━━━━━━━━━━━━━━━┩\n",
       "│ embedding (<span style=\"color: #0087ff; text-decoration-color: #0087ff\">Embedding</span>)           │ (<span style=\"color: #00d7ff; text-decoration-color: #00d7ff\">None</span>, <span style=\"color: #00af00; text-decoration-color: #00af00\">23</span>, <span style=\"color: #00af00; text-decoration-color: #00af00\">100</span>)        │        <span style=\"color: #00af00; text-decoration-color: #00af00\">25,000</span> │\n",
       "├─────────────────────────────────┼────────────────────────┼───────────────┤\n",
       "│ lstm (<span style=\"color: #0087ff; text-decoration-color: #0087ff\">LSTM</span>)                     │ (<span style=\"color: #00d7ff; text-decoration-color: #00d7ff\">None</span>, <span style=\"color: #00af00; text-decoration-color: #00af00\">23</span>, <span style=\"color: #00af00; text-decoration-color: #00af00\">150</span>)        │       <span style=\"color: #00af00; text-decoration-color: #00af00\">150,600</span> │\n",
       "├─────────────────────────────────┼────────────────────────┼───────────────┤\n",
       "│ lstm_1 (<span style=\"color: #0087ff; text-decoration-color: #0087ff\">LSTM</span>)                   │ (<span style=\"color: #00d7ff; text-decoration-color: #00d7ff\">None</span>, <span style=\"color: #00af00; text-decoration-color: #00af00\">23</span>, <span style=\"color: #00af00; text-decoration-color: #00af00\">128</span>)        │       <span style=\"color: #00af00; text-decoration-color: #00af00\">142,848</span> │\n",
       "├─────────────────────────────────┼────────────────────────┼───────────────┤\n",
       "│ lstm_2 (<span style=\"color: #0087ff; text-decoration-color: #0087ff\">LSTM</span>)                   │ (<span style=\"color: #00d7ff; text-decoration-color: #00d7ff\">None</span>, <span style=\"color: #00af00; text-decoration-color: #00af00\">128</span>)            │       <span style=\"color: #00af00; text-decoration-color: #00af00\">131,584</span> │\n",
       "├─────────────────────────────────┼────────────────────────┼───────────────┤\n",
       "│ dense (<span style=\"color: #0087ff; text-decoration-color: #0087ff\">Dense</span>)                   │ (<span style=\"color: #00d7ff; text-decoration-color: #00d7ff\">None</span>, <span style=\"color: #00af00; text-decoration-color: #00af00\">250</span>)            │        <span style=\"color: #00af00; text-decoration-color: #00af00\">32,250</span> │\n",
       "└─────────────────────────────────┴────────────────────────┴───────────────┘\n",
       "</pre>\n"
      ],
      "text/plain": [
       "┏━━━━━━━━━━━━━━━━━━━━━━━━━━━━━━━━━┳━━━━━━━━━━━━━━━━━━━━━━━━┳━━━━━━━━━━━━━━━┓\n",
       "┃\u001b[1m \u001b[0m\u001b[1mLayer (type)                   \u001b[0m\u001b[1m \u001b[0m┃\u001b[1m \u001b[0m\u001b[1mOutput Shape          \u001b[0m\u001b[1m \u001b[0m┃\u001b[1m \u001b[0m\u001b[1m      Param #\u001b[0m\u001b[1m \u001b[0m┃\n",
       "┡━━━━━━━━━━━━━━━━━━━━━━━━━━━━━━━━━╇━━━━━━━━━━━━━━━━━━━━━━━━╇━━━━━━━━━━━━━━━┩\n",
       "│ embedding (\u001b[38;5;33mEmbedding\u001b[0m)           │ (\u001b[38;5;45mNone\u001b[0m, \u001b[38;5;34m23\u001b[0m, \u001b[38;5;34m100\u001b[0m)        │        \u001b[38;5;34m25,000\u001b[0m │\n",
       "├─────────────────────────────────┼────────────────────────┼───────────────┤\n",
       "│ lstm (\u001b[38;5;33mLSTM\u001b[0m)                     │ (\u001b[38;5;45mNone\u001b[0m, \u001b[38;5;34m23\u001b[0m, \u001b[38;5;34m150\u001b[0m)        │       \u001b[38;5;34m150,600\u001b[0m │\n",
       "├─────────────────────────────────┼────────────────────────┼───────────────┤\n",
       "│ lstm_1 (\u001b[38;5;33mLSTM\u001b[0m)                   │ (\u001b[38;5;45mNone\u001b[0m, \u001b[38;5;34m23\u001b[0m, \u001b[38;5;34m128\u001b[0m)        │       \u001b[38;5;34m142,848\u001b[0m │\n",
       "├─────────────────────────────────┼────────────────────────┼───────────────┤\n",
       "│ lstm_2 (\u001b[38;5;33mLSTM\u001b[0m)                   │ (\u001b[38;5;45mNone\u001b[0m, \u001b[38;5;34m128\u001b[0m)            │       \u001b[38;5;34m131,584\u001b[0m │\n",
       "├─────────────────────────────────┼────────────────────────┼───────────────┤\n",
       "│ dense (\u001b[38;5;33mDense\u001b[0m)                   │ (\u001b[38;5;45mNone\u001b[0m, \u001b[38;5;34m250\u001b[0m)            │        \u001b[38;5;34m32,250\u001b[0m │\n",
       "└─────────────────────────────────┴────────────────────────┴───────────────┘\n"
      ]
     },
     "metadata": {},
     "output_type": "display_data"
    },
    {
     "data": {
      "text/html": [
       "<pre style=\"white-space:pre;overflow-x:auto;line-height:normal;font-family:Menlo,'DejaVu Sans Mono',consolas,'Courier New',monospace\"><span style=\"font-weight: bold\"> Total params: </span><span style=\"color: #00af00; text-decoration-color: #00af00\">482,282</span> (1.84 MB)\n",
       "</pre>\n"
      ],
      "text/plain": [
       "\u001b[1m Total params: \u001b[0m\u001b[38;5;34m482,282\u001b[0m (1.84 MB)\n"
      ]
     },
     "metadata": {},
     "output_type": "display_data"
    },
    {
     "data": {
      "text/html": [
       "<pre style=\"white-space:pre;overflow-x:auto;line-height:normal;font-family:Menlo,'DejaVu Sans Mono',consolas,'Courier New',monospace\"><span style=\"font-weight: bold\"> Trainable params: </span><span style=\"color: #00af00; text-decoration-color: #00af00\">482,282</span> (1.84 MB)\n",
       "</pre>\n"
      ],
      "text/plain": [
       "\u001b[1m Trainable params: \u001b[0m\u001b[38;5;34m482,282\u001b[0m (1.84 MB)\n"
      ]
     },
     "metadata": {},
     "output_type": "display_data"
    },
    {
     "data": {
      "text/html": [
       "<pre style=\"white-space:pre;overflow-x:auto;line-height:normal;font-family:Menlo,'DejaVu Sans Mono',consolas,'Courier New',monospace\"><span style=\"font-weight: bold\"> Non-trainable params: </span><span style=\"color: #00af00; text-decoration-color: #00af00\">0</span> (0.00 B)\n",
       "</pre>\n"
      ],
      "text/plain": [
       "\u001b[1m Non-trainable params: \u001b[0m\u001b[38;5;34m0\u001b[0m (0.00 B)\n"
      ]
     },
     "metadata": {},
     "output_type": "display_data"
    }
   ],
   "source": [
    "model.summary()"
   ]
  },
  {
   "cell_type": "code",
   "execution_count": 36,
   "id": "0a6d8db7",
   "metadata": {
    "execution": {
     "iopub.execute_input": "2024-04-10T08:17:44.239644Z",
     "iopub.status.busy": "2024-04-10T08:17:44.238581Z",
     "iopub.status.idle": "2024-04-10T08:22:41.985562Z",
     "shell.execute_reply": "2024-04-10T08:22:41.984335Z"
    },
    "papermill": {
     "duration": 297.76474,
     "end_time": "2024-04-10T08:22:41.987714",
     "exception": false,
     "start_time": "2024-04-10T08:17:44.222974",
     "status": "completed"
    },
    "tags": []
   },
   "outputs": [
    {
     "name": "stdout",
     "output_type": "stream",
     "text": [
      "Epoch 1/15\n",
      "\u001b[1m241/241\u001b[0m \u001b[32m━━━━━━━━━━━━━━━━━━━━\u001b[0m\u001b[37m\u001b[0m \u001b[1m22s\u001b[0m 68ms/step - accuracy: 0.0695 - loss: 4.7382\n",
      "Epoch 2/15\n",
      "\u001b[1m241/241\u001b[0m \u001b[32m━━━━━━━━━━━━━━━━━━━━\u001b[0m\u001b[37m\u001b[0m \u001b[1m21s\u001b[0m 69ms/step - accuracy: 0.1117 - loss: 3.9333\n",
      "Epoch 3/15\n",
      "\u001b[1m241/241\u001b[0m \u001b[32m━━━━━━━━━━━━━━━━━━━━\u001b[0m\u001b[37m\u001b[0m \u001b[1m21s\u001b[0m 69ms/step - accuracy: 0.3371 - loss: 2.6787\n",
      "Epoch 4/15\n",
      "\u001b[1m241/241\u001b[0m \u001b[32m━━━━━━━━━━━━━━━━━━━━\u001b[0m\u001b[37m\u001b[0m \u001b[1m16s\u001b[0m 67ms/step - accuracy: 0.6526 - loss: 1.6574\n",
      "Epoch 5/15\n",
      "\u001b[1m241/241\u001b[0m \u001b[32m━━━━━━━━━━━━━━━━━━━━\u001b[0m\u001b[37m\u001b[0m \u001b[1m21s\u001b[0m 69ms/step - accuracy: 0.8009 - loss: 1.0535\n",
      "Epoch 6/15\n",
      "\u001b[1m241/241\u001b[0m \u001b[32m━━━━━━━━━━━━━━━━━━━━\u001b[0m\u001b[37m\u001b[0m \u001b[1m17s\u001b[0m 69ms/step - accuracy: 0.8702 - loss: 0.7316\n",
      "Epoch 7/15\n",
      "\u001b[1m241/241\u001b[0m \u001b[32m━━━━━━━━━━━━━━━━━━━━\u001b[0m\u001b[37m\u001b[0m \u001b[1m17s\u001b[0m 70ms/step - accuracy: 0.8869 - loss: 0.5547\n",
      "Epoch 8/15\n",
      "\u001b[1m241/241\u001b[0m \u001b[32m━━━━━━━━━━━━━━━━━━━━\u001b[0m\u001b[37m\u001b[0m \u001b[1m20s\u001b[0m 68ms/step - accuracy: 0.9025 - loss: 0.4598\n",
      "Epoch 9/15\n",
      "\u001b[1m241/241\u001b[0m \u001b[32m━━━━━━━━━━━━━━━━━━━━\u001b[0m\u001b[37m\u001b[0m \u001b[1m21s\u001b[0m 71ms/step - accuracy: 0.9113 - loss: 0.3870\n",
      "Epoch 10/15\n",
      "\u001b[1m241/241\u001b[0m \u001b[32m━━━━━━━━━━━━━━━━━━━━\u001b[0m\u001b[37m\u001b[0m \u001b[1m21s\u001b[0m 72ms/step - accuracy: 0.9172 - loss: 0.3459\n",
      "Epoch 11/15\n",
      "\u001b[1m241/241\u001b[0m \u001b[32m━━━━━━━━━━━━━━━━━━━━\u001b[0m\u001b[37m\u001b[0m \u001b[1m17s\u001b[0m 70ms/step - accuracy: 0.9293 - loss: 0.2924\n",
      "Epoch 12/15\n",
      "\u001b[1m241/241\u001b[0m \u001b[32m━━━━━━━━━━━━━━━━━━━━\u001b[0m\u001b[37m\u001b[0m \u001b[1m21s\u001b[0m 72ms/step - accuracy: 0.9267 - loss: 0.2789\n",
      "Epoch 13/15\n",
      "\u001b[1m241/241\u001b[0m \u001b[32m━━━━━━━━━━━━━━━━━━━━\u001b[0m\u001b[37m\u001b[0m \u001b[1m21s\u001b[0m 77ms/step - accuracy: 0.9360 - loss: 0.2325\n",
      "Epoch 14/15\n",
      "\u001b[1m241/241\u001b[0m \u001b[32m━━━━━━━━━━━━━━━━━━━━\u001b[0m\u001b[37m\u001b[0m \u001b[1m18s\u001b[0m 68ms/step - accuracy: 0.9361 - loss: 0.2296\n",
      "Epoch 15/15\n",
      "\u001b[1m241/241\u001b[0m \u001b[32m━━━━━━━━━━━━━━━━━━━━\u001b[0m\u001b[37m\u001b[0m \u001b[1m21s\u001b[0m 70ms/step - accuracy: 0.9422 - loss: 0.2023\n"
     ]
    },
    {
     "data": {
      "text/plain": [
       "<keras.src.callbacks.history.History at 0x7a8e8831e080>"
      ]
     },
     "execution_count": 36,
     "metadata": {},
     "output_type": "execute_result"
    }
   ],
   "source": [
    "model.fit(x,y,epochs=15)"
   ]
  },
  {
   "cell_type": "code",
   "execution_count": 37,
   "id": "16fd210a",
   "metadata": {
    "execution": {
     "iopub.execute_input": "2024-04-10T08:22:42.504787Z",
     "iopub.status.busy": "2024-04-10T08:22:42.504095Z",
     "iopub.status.idle": "2024-04-10T08:22:42.559636Z",
     "shell.execute_reply": "2024-04-10T08:22:42.558502Z"
    },
    "papermill": {
     "duration": 0.312822,
     "end_time": "2024-04-10T08:22:42.562258",
     "exception": false,
     "start_time": "2024-04-10T08:22:42.249436",
     "status": "completed"
    },
    "tags": []
   },
   "outputs": [],
   "source": [
    "model.save('quote_writer.h5')"
   ]
  },
  {
   "cell_type": "code",
   "execution_count": 38,
   "id": "9f365309",
   "metadata": {
    "execution": {
     "iopub.execute_input": "2024-04-10T08:22:43.136095Z",
     "iopub.status.busy": "2024-04-10T08:22:43.135500Z",
     "iopub.status.idle": "2024-04-10T08:22:43.140479Z",
     "shell.execute_reply": "2024-04-10T08:22:43.139661Z"
    },
    "papermill": {
     "duration": 0.328918,
     "end_time": "2024-04-10T08:22:43.142554",
     "exception": false,
     "start_time": "2024-04-10T08:22:42.813636",
     "status": "completed"
    },
    "tags": []
   },
   "outputs": [],
   "source": [
    "import pickle\n",
    "\n",
    "pickle.dump(tokenizer,open(\"tokenizer_of_quotes.pkl\",\"wb\"))"
   ]
  },
  {
   "cell_type": "markdown",
   "id": "ee652d52",
   "metadata": {
    "papermill": {
     "duration": 0.256579,
     "end_time": "2024-04-10T08:22:43.658384",
     "exception": false,
     "start_time": "2024-04-10T08:22:43.401805",
     "status": "completed"
    },
    "tags": []
   },
   "source": [
    "# Testing on Model"
   ]
  },
  {
   "cell_type": "code",
   "execution_count": 39,
   "id": "6460af15",
   "metadata": {
    "execution": {
     "iopub.execute_input": "2024-04-10T08:22:44.165257Z",
     "iopub.status.busy": "2024-04-10T08:22:44.164511Z",
     "iopub.status.idle": "2024-04-10T08:22:44.169093Z",
     "shell.execute_reply": "2024-04-10T08:22:44.168339Z"
    },
    "papermill": {
     "duration": 0.258605,
     "end_time": "2024-04-10T08:22:44.171165",
     "exception": false,
     "start_time": "2024-04-10T08:22:43.912560",
     "status": "completed"
    },
    "tags": []
   },
   "outputs": [],
   "source": [
    "import tensorflow"
   ]
  },
  {
   "cell_type": "code",
   "execution_count": 40,
   "id": "08a18116",
   "metadata": {
    "execution": {
     "iopub.execute_input": "2024-04-10T08:22:44.675201Z",
     "iopub.status.busy": "2024-04-10T08:22:44.674448Z",
     "iopub.status.idle": "2024-04-10T08:22:44.793248Z",
     "shell.execute_reply": "2024-04-10T08:22:44.791850Z"
    },
    "papermill": {
     "duration": 0.371534,
     "end_time": "2024-04-10T08:22:44.795872",
     "exception": false,
     "start_time": "2024-04-10T08:22:44.424338",
     "status": "completed"
    },
    "tags": []
   },
   "outputs": [],
   "source": [
    "saved_model = tensorflow.keras.models.load_model(\"/kaggle/working/quote_writer.h5\")\n",
    "\n",
    "saved_tokenizer = pickle.load(open(\"/kaggle/working/tokenizer_of_quotes.pkl\",\"rb\"))\n",
    "import numpy as np"
   ]
  },
  {
   "cell_type": "code",
   "execution_count": 41,
   "id": "f3181506",
   "metadata": {
    "execution": {
     "iopub.execute_input": "2024-04-10T08:22:45.368581Z",
     "iopub.status.busy": "2024-04-10T08:22:45.367599Z",
     "iopub.status.idle": "2024-04-10T08:22:46.079819Z",
     "shell.execute_reply": "2024-04-10T08:22:46.078704Z"
    },
    "papermill": {
     "duration": 0.971249,
     "end_time": "2024-04-10T08:22:46.082182",
     "exception": false,
     "start_time": "2024-04-10T08:22:45.110933",
     "status": "completed"
    },
    "tags": []
   },
   "outputs": [
    {
     "name": "stdout",
     "output_type": "stream",
     "text": [
      "[2, 144]\n",
      "\u001b[1m1/1\u001b[0m \u001b[32m━━━━━━━━━━━━━━━━━━━━\u001b[0m\u001b[37m\u001b[0m \u001b[1m0s\u001b[0m 423ms/step\n",
      "2\n",
      "the truth the\n",
      "[2, 144, 2]\n",
      "\u001b[1m1/1\u001b[0m \u001b[32m━━━━━━━━━━━━━━━━━━━━\u001b[0m\u001b[37m\u001b[0m \u001b[1m0s\u001b[0m 23ms/step\n",
      "91\n",
      "the truth the anyone\n",
      "[2, 144, 2, 91]\n",
      "\u001b[1m1/1\u001b[0m \u001b[32m━━━━━━━━━━━━━━━━━━━━\u001b[0m\u001b[37m\u001b[0m \u001b[1m0s\u001b[0m 22ms/step\n",
      "203\n",
      "the truth the anyone for\n",
      "[2, 144, 2, 91, 203]\n",
      "\u001b[1m1/1\u001b[0m \u001b[32m━━━━━━━━━━━━━━━━━━━━\u001b[0m\u001b[37m\u001b[0m \u001b[1m0s\u001b[0m 24ms/step\n",
      "237\n",
      "the truth the anyone for successful\n"
     ]
    }
   ],
   "source": [
    "# user_text = input(\"enter your 2,3 word of qoute to complete\")\n",
    "\n",
    "user_text = \"the truth\"\n",
    "\n",
    "for i in range(4):\n",
    "    text_token = saved_tokenizer.texts_to_sequences([user_text])[0]\n",
    "    print(text_token)\n",
    "    input_x = pad_sequences([text_token],maxlen=5,padding='pre')\n",
    "    predictions = saved_model.predict(input_x)\n",
    "    pos=np.argmax(predictions)\n",
    "    print(pos)\n",
    "    for word, index in saved_tokenizer.word_index.items():\n",
    "        if index == pos:\n",
    "            user_text = user_text+' '+word\n",
    "            print(user_text)\n",
    "        "
   ]
  },
  {
   "cell_type": "code",
   "execution_count": null,
   "id": "8f716426",
   "metadata": {
    "papermill": {
     "duration": 0.25403,
     "end_time": "2024-04-10T08:22:46.591887",
     "exception": false,
     "start_time": "2024-04-10T08:22:46.337857",
     "status": "completed"
    },
    "tags": []
   },
   "outputs": [],
   "source": []
  }
 ],
 "metadata": {
  "kaggle": {
   "accelerator": "none",
   "dataSources": [
    {
     "datasetId": 4768454,
     "sourceId": 8079442,
     "sourceType": "datasetVersion"
    }
   ],
   "dockerImageVersionId": 30684,
   "isGpuEnabled": false,
   "isInternetEnabled": true,
   "language": "python",
   "sourceType": "notebook"
  },
  "kernelspec": {
   "display_name": "Python 3",
   "language": "python",
   "name": "python3"
  },
  "language_info": {
   "codemirror_mode": {
    "name": "ipython",
    "version": 3
   },
   "file_extension": ".py",
   "mimetype": "text/x-python",
   "name": "python",
   "nbconvert_exporter": "python",
   "pygments_lexer": "ipython3",
   "version": "3.10.13"
  },
  "papermill": {
   "default_parameters": {},
   "duration": 327.371201,
   "end_time": "2024-04-10T08:22:49.238704",
   "environment_variables": {},
   "exception": null,
   "input_path": "__notebook__.ipynb",
   "output_path": "__notebook__.ipynb",
   "parameters": {},
   "start_time": "2024-04-10T08:17:21.867503",
   "version": "2.5.0"
  }
 },
 "nbformat": 4,
 "nbformat_minor": 5
}
